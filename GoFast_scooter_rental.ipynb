{
 "cells": [
  {
   "cell_type": "markdown",
   "id": "81968118",
   "metadata": {},
   "source": [
    "__*Описание данных:*__\n",
    "\n",
    "В основных данных есть информация о пользователях, их поездках и подписках.\n",
    "\n",
    "Пользователи — users_go.csv\n",
    "- user_id\tуникальный идентификатор пользователя\n",
    "- name\tимя пользователя\n",
    "- age\tвозраст\n",
    "- city\tгород\n",
    "- subscription_type\tтип подписки (free, ultra)\n",
    "\n",
    "\n",
    "\n",
    "Поездки — rides_go.csv\n",
    "- user_id\tуникальный идентификатор пользователя\n",
    "- distance\tрасстояние, которое пользователь проехал в текущей сессии (в метрах)\n",
    "- duration\tпродолжительность сессии (в минутах) — время с того момента, как пользователь нажал кнопку «Начать поездку» до момента, как он нажал кнопку «Завершить поездку»\n",
    "- date\tдата совершения поездки\n",
    "\n",
    "\n",
    "\n",
    "Подписки — subscriptions_go.csv\n",
    "- subscription_type\tтип подписки\n",
    "- minute_price\tстоимость одной минуты поездки по данной подписке\n",
    "- start_ride_price\tстоимость начала поездки\n",
    "- subscription_fee\tстоимость ежемесячного платежа\n",
    "\n",
    "\n",
    "\n",
    "\n",
    "__*План выполнения проекта:*__\n",
    "\n",
    "**Шаг 1. Загрузка данных**\n",
    "- 1.1 Считаем CSV-файлы с данными с помощью библиотеки pandas и сохраним их в датафреймы. \n",
    "\n",
    "Пути к файлам:\n",
    "\n",
    "\n",
    "/datasets/users_go.csv\n",
    "\n",
    "\n",
    "/datasets/rides_go.csv\n",
    "\n",
    "\n",
    "/datasets/subscriptions_go.csv\n",
    "\n",
    "\n",
    "- 1.2 Выведим первые строки каждого набора данных. Изучим общую информацию о каждом датафрейме.\n",
    "\n",
    "\n",
    "**Шаг 2. Предобработка данных** \n",
    "- 2.1 Приведем столбец date к типу даты pandas.\n",
    "- 2.2 Создадим новый столбец с номером месяца на основе столбца date.\n",
    "- 2.3 Проверим наличие пропущенных значений и дубликатов в датафреймах. Обработаем их, если такие значения присутствуют.\n",
    "\n",
    "\n",
    "**Шаг 3. Исследовательский анализ данных**\n",
    "\n",
    "Омишем и визуализируем общую информацию о пользователях и поездках:\n",
    "- 3.1 частота встречаемости городов;\n",
    "- 3.2 соотношение пользователей с подпиской и без подписки;\n",
    "- 3.3 возраст пользователей;\n",
    "- 3.4 расстояние, которое пользователь преодолел за одну поездку;\n",
    "- 3.5 продолжительность поездок.\n",
    "\n",
    "\n",
    "\n",
    "**Шаг 4. Объединение данных**\n",
    "- 4.1 Объединим данные о пользователях, поездках и подписках в один датафрейм. Для этого воспользуемся методом merge().\n",
    "- 4.2 Создадим ещё два датафрейма из датафрейма, созданного на этапе 4.1: c данными о пользователях без подписки; с данными о пользователях с подпиской.\n",
    "- 4.3 Визуализируем  информацию о расстоянии и времени поездок для пользователей обеих категорий.\n",
    "\n",
    "\n",
    "**Шаг 5. Подсчёт выручки**\n",
    "- 5.1 Создадим датафрейм с агрегированными данными о поездках на основе датафрейма с объединёнными данными из шага 4: найдем суммарное расстояние, количество поездок и суммарное время для каждого пользователя за каждый месяц.\n",
    "- 5.2 В этот же датафрейм добавим столбец с помесячной выручкой, которую принёс каждый пользователь. Для этого обратимся к информации об условиях оплаты для подписчиков и тех, у кого нет подписки. Продолжительность каждой поездки в каждой строке исходного датафрейма для подсчёта стоимости округляется до следующего целого числа: например, 25.3, 25.5 и 26.0 должны быть преобразованы к 26.\n",
    "\n",
    "\n",
    "\n",
    "**Шаг 6. Проверка гипотез**\n",
    "\n",
    "Продакт-менеджеры сервиса хотят увеличить количество пользователей с подпиской. Для этого они будут проводить различные акции, но сначала нужно выяснить несколько важных моментов.\n",
    "- 6.1 Важно понять, тратят ли пользователи с подпиской больше времени на поездки? Если да, то пользователи с подпиской могут быть «выгоднее» для компании. Проверим гипотезу. Будем использовать исходные данные о продолжительности каждой сессии — отдельно для подписчиков и тех, у кого нет подписки.\n",
    "- 6.2 Расстояние одной поездки в 3130 метров — оптимальное с точки зрения износа самоката. Можно ли сказать, что среднее расстояние, которое проезжают пользователи с подпиской за одну поездку, не превышает 3130 метров? Проверим гипотезу и сделаем выводы.\n",
    "- 6.3 Проверим гипотезу о том, будет ли помесячная выручка от пользователей с подпиской по месяцам выше, чем выручка от пользователей без подписки. Сделаем вывод.\n",
    "- 6.4 Представим такую ситуацию: техническая команда сервиса обновила сервера, с которыми взаимодействует мобильное приложение. Она надеется, что из-за этого количество обращений в техподдержку значимо снизилось. Некоторый файл содержит для каждого пользователя данные о количестве обращений до обновления и после него. Какой тест нам понадобился бы для проверки этой гипотезы?\n",
    "\n",
    "\n",
    "**Шаг 7 (необязательное задание). Распределения** \n",
    "- 7.1 Отделу маркетинга GoFast поставили задачу: нужно провести акцию с раздачей промокодов на один бесплатный месяц подписки, в рамках которой как минимум 100 существующих клиентов должны продлить эту подписку. То есть по завершении периода действия подписки пользователь может либо отказаться от неё, либо продлить, совершив соответствующий платёж. Эта акция уже проводилась ранее и по итогу выяснилось, что после бесплатного пробного периода подписку продлевают 10 % пользователей. Выясним, какое минимальное количество промокодов нужно разослать, чтобы вероятность не выполнить план была примерно  5 %. Подберем параметры распределения, описывающего эту ситуацию, построим график распределения и сформулируем ответ на вопрос о количестве промокодов.\n",
    "- 7.2 Отдел маркетинга рассылает клиентам push-уведомления в мобильном приложении. Клиенты могут открыть его или не открывать. Известно, что уведомления открывают около 40 % получивших клиентов. Отдел планирует разослать 1 млн уведомлений. С помощью аппроксимации построим примерный график распределения и оценим вероятность того, что уведомление откроют не более 399,5 тыс. пользователей."
   ]
  },
  {
   "cell_type": "markdown",
   "id": "9c19e63d",
   "metadata": {},
   "source": [
    "**Импорт необходимых библиотек:**"
   ]
  },
  {
   "cell_type": "code",
   "execution_count": 1,
   "id": "c5b9f727",
   "metadata": {},
   "outputs": [],
   "source": [
    "import pandas as pd\n",
    "import matplotlib.pyplot as plt\n",
    "import numpy as np\n",
    "from scipy import stats as st\n",
    "from math import factorial\n",
    "from scipy.stats import binom\n",
    "from math import sqrt"
   ]
  },
  {
   "cell_type": "markdown",
   "id": "c42cbe00",
   "metadata": {},
   "source": [
    "#### Шаг 1. Загрузка данных"
   ]
  },
  {
   "cell_type": "markdown",
   "id": "5134d28f",
   "metadata": {},
   "source": [
    "_Считаем CSV-файлы с данными с помощью библиотеки pandas и сохраним их в датафреймы:_"
   ]
  },
  {
   "cell_type": "code",
   "execution_count": 2,
   "id": "eff9f206",
   "metadata": {},
   "outputs": [],
   "source": [
    "users_go = pd.read_csv('/datasets/users_go.csv')\n",
    "rides_go = pd.read_csv('/datasets/rides_go.csv')\n",
    "subscriptions_go = pd.read_csv('/datasets/subscriptions_go.csv')"
   ]
  },
  {
   "cell_type": "markdown",
   "id": "dd17fda1",
   "metadata": {},
   "source": [
    "_Выведим первые строки каждого набора данных. Изучим общую информацию о каждом датафрейме._"
   ]
  },
  {
   "cell_type": "markdown",
   "id": "4bd43a45",
   "metadata": {},
   "source": [
    "_Информация о пользователях:_"
   ]
  },
  {
   "cell_type": "code",
   "execution_count": 3,
   "id": "f062b12e",
   "metadata": {},
   "outputs": [
    {
     "data": {
      "text/html": [
       "<div>\n",
       "<style scoped>\n",
       "    .dataframe tbody tr th:only-of-type {\n",
       "        vertical-align: middle;\n",
       "    }\n",
       "\n",
       "    .dataframe tbody tr th {\n",
       "        vertical-align: top;\n",
       "    }\n",
       "\n",
       "    .dataframe thead th {\n",
       "        text-align: right;\n",
       "    }\n",
       "</style>\n",
       "<table border=\"1\" class=\"dataframe\">\n",
       "  <thead>\n",
       "    <tr style=\"text-align: right;\">\n",
       "      <th></th>\n",
       "      <th>user_id</th>\n",
       "      <th>name</th>\n",
       "      <th>age</th>\n",
       "      <th>city</th>\n",
       "      <th>subscription_type</th>\n",
       "    </tr>\n",
       "  </thead>\n",
       "  <tbody>\n",
       "    <tr>\n",
       "      <th>0</th>\n",
       "      <td>1</td>\n",
       "      <td>Кира</td>\n",
       "      <td>22</td>\n",
       "      <td>Тюмень</td>\n",
       "      <td>ultra</td>\n",
       "    </tr>\n",
       "    <tr>\n",
       "      <th>1</th>\n",
       "      <td>2</td>\n",
       "      <td>Станислав</td>\n",
       "      <td>31</td>\n",
       "      <td>Омск</td>\n",
       "      <td>ultra</td>\n",
       "    </tr>\n",
       "    <tr>\n",
       "      <th>2</th>\n",
       "      <td>3</td>\n",
       "      <td>Алексей</td>\n",
       "      <td>20</td>\n",
       "      <td>Москва</td>\n",
       "      <td>ultra</td>\n",
       "    </tr>\n",
       "    <tr>\n",
       "      <th>3</th>\n",
       "      <td>4</td>\n",
       "      <td>Константин</td>\n",
       "      <td>26</td>\n",
       "      <td>Ростов-на-Дону</td>\n",
       "      <td>ultra</td>\n",
       "    </tr>\n",
       "    <tr>\n",
       "      <th>4</th>\n",
       "      <td>5</td>\n",
       "      <td>Адель</td>\n",
       "      <td>28</td>\n",
       "      <td>Омск</td>\n",
       "      <td>ultra</td>\n",
       "    </tr>\n",
       "  </tbody>\n",
       "</table>\n",
       "</div>"
      ],
      "text/plain": [
       "   user_id        name  age            city subscription_type\n",
       "0        1        Кира   22          Тюмень             ultra\n",
       "1        2   Станислав   31            Омск             ultra\n",
       "2        3     Алексей   20          Москва             ultra\n",
       "3        4  Константин   26  Ростов-на-Дону             ultra\n",
       "4        5       Адель   28            Омск             ultra"
      ]
     },
     "metadata": {},
     "output_type": "display_data"
    },
    {
     "name": "stdout",
     "output_type": "stream",
     "text": [
      "<class 'pandas.core.frame.DataFrame'>\n",
      "RangeIndex: 1565 entries, 0 to 1564\n",
      "Data columns (total 5 columns):\n",
      " #   Column             Non-Null Count  Dtype \n",
      "---  ------             --------------  ----- \n",
      " 0   user_id            1565 non-null   int64 \n",
      " 1   name               1565 non-null   object\n",
      " 2   age                1565 non-null   int64 \n",
      " 3   city               1565 non-null   object\n",
      " 4   subscription_type  1565 non-null   object\n",
      "dtypes: int64(2), object(3)\n",
      "memory usage: 61.3+ KB\n"
     ]
    },
    {
     "data": {
      "text/plain": [
       "None"
      ]
     },
     "metadata": {},
     "output_type": "display_data"
    }
   ],
   "source": [
    "display(users_go.head())\n",
    "display(users_go.info())"
   ]
  },
  {
   "cell_type": "markdown",
   "id": "fd517317",
   "metadata": {},
   "source": [
    "В датафрейме с пользователеями у нас 1565 записей, где:\n",
    "\n",
    "user_id - уникальный идентификатор пользователя\n",
    "\n",
    "name - имя пользователя\n",
    "\n",
    "age - возраст\n",
    "\n",
    "city - город\n",
    "\n",
    "subscription_type - тип подписки (free, ultra)\n"
   ]
  },
  {
   "cell_type": "markdown",
   "id": "1ff6e9c1",
   "metadata": {},
   "source": [
    "_Информация о поездках:_"
   ]
  },
  {
   "cell_type": "code",
   "execution_count": 4,
   "id": "30d964bf",
   "metadata": {},
   "outputs": [
    {
     "data": {
      "text/html": [
       "<div>\n",
       "<style scoped>\n",
       "    .dataframe tbody tr th:only-of-type {\n",
       "        vertical-align: middle;\n",
       "    }\n",
       "\n",
       "    .dataframe tbody tr th {\n",
       "        vertical-align: top;\n",
       "    }\n",
       "\n",
       "    .dataframe thead th {\n",
       "        text-align: right;\n",
       "    }\n",
       "</style>\n",
       "<table border=\"1\" class=\"dataframe\">\n",
       "  <thead>\n",
       "    <tr style=\"text-align: right;\">\n",
       "      <th></th>\n",
       "      <th>user_id</th>\n",
       "      <th>distance</th>\n",
       "      <th>duration</th>\n",
       "      <th>date</th>\n",
       "    </tr>\n",
       "  </thead>\n",
       "  <tbody>\n",
       "    <tr>\n",
       "      <th>0</th>\n",
       "      <td>1</td>\n",
       "      <td>4409.919140</td>\n",
       "      <td>25.599769</td>\n",
       "      <td>2021-01-01</td>\n",
       "    </tr>\n",
       "    <tr>\n",
       "      <th>1</th>\n",
       "      <td>1</td>\n",
       "      <td>2617.592153</td>\n",
       "      <td>15.816871</td>\n",
       "      <td>2021-01-18</td>\n",
       "    </tr>\n",
       "    <tr>\n",
       "      <th>2</th>\n",
       "      <td>1</td>\n",
       "      <td>754.159807</td>\n",
       "      <td>6.232113</td>\n",
       "      <td>2021-04-20</td>\n",
       "    </tr>\n",
       "    <tr>\n",
       "      <th>3</th>\n",
       "      <td>1</td>\n",
       "      <td>2694.783254</td>\n",
       "      <td>18.511000</td>\n",
       "      <td>2021-08-11</td>\n",
       "    </tr>\n",
       "    <tr>\n",
       "      <th>4</th>\n",
       "      <td>1</td>\n",
       "      <td>4028.687306</td>\n",
       "      <td>26.265803</td>\n",
       "      <td>2021-08-28</td>\n",
       "    </tr>\n",
       "  </tbody>\n",
       "</table>\n",
       "</div>"
      ],
      "text/plain": [
       "   user_id     distance   duration        date\n",
       "0        1  4409.919140  25.599769  2021-01-01\n",
       "1        1  2617.592153  15.816871  2021-01-18\n",
       "2        1   754.159807   6.232113  2021-04-20\n",
       "3        1  2694.783254  18.511000  2021-08-11\n",
       "4        1  4028.687306  26.265803  2021-08-28"
      ]
     },
     "metadata": {},
     "output_type": "display_data"
    },
    {
     "name": "stdout",
     "output_type": "stream",
     "text": [
      "<class 'pandas.core.frame.DataFrame'>\n",
      "RangeIndex: 18068 entries, 0 to 18067\n",
      "Data columns (total 4 columns):\n",
      " #   Column    Non-Null Count  Dtype  \n",
      "---  ------    --------------  -----  \n",
      " 0   user_id   18068 non-null  int64  \n",
      " 1   distance  18068 non-null  float64\n",
      " 2   duration  18068 non-null  float64\n",
      " 3   date      18068 non-null  object \n",
      "dtypes: float64(2), int64(1), object(1)\n",
      "memory usage: 564.8+ KB\n"
     ]
    },
    {
     "data": {
      "text/plain": [
       "None"
      ]
     },
     "metadata": {},
     "output_type": "display_data"
    }
   ],
   "source": [
    "display(rides_go.head())\n",
    "display(rides_go.info())"
   ]
  },
  {
   "cell_type": "markdown",
   "id": "4e7105c2",
   "metadata": {},
   "source": [
    "В датафрейме с поездками у нас 18068 записей, где:\n",
    "\n",
    "user_id - уникальный идентификатор пользователя\n",
    "\n",
    "distance - расстояние, которое пользователь проехал в текущей сессии (в метрах)\n",
    "\n",
    "duration - продолжительность сессии (в минутах) — время с того момента, как пользователь нажал кнопку «Начать поездку» до момента, как он нажал кнопку «Завершить поездку»\n",
    "\n",
    "date - дата совершения поездки"
   ]
  },
  {
   "cell_type": "markdown",
   "id": "b77092ab",
   "metadata": {},
   "source": [
    "_Информация о подписке:_"
   ]
  },
  {
   "cell_type": "code",
   "execution_count": 5,
   "id": "48db23b5",
   "metadata": {},
   "outputs": [
    {
     "data": {
      "text/html": [
       "<div>\n",
       "<style scoped>\n",
       "    .dataframe tbody tr th:only-of-type {\n",
       "        vertical-align: middle;\n",
       "    }\n",
       "\n",
       "    .dataframe tbody tr th {\n",
       "        vertical-align: top;\n",
       "    }\n",
       "\n",
       "    .dataframe thead th {\n",
       "        text-align: right;\n",
       "    }\n",
       "</style>\n",
       "<table border=\"1\" class=\"dataframe\">\n",
       "  <thead>\n",
       "    <tr style=\"text-align: right;\">\n",
       "      <th></th>\n",
       "      <th>subscription_type</th>\n",
       "      <th>minute_price</th>\n",
       "      <th>start_ride_price</th>\n",
       "      <th>subscription_fee</th>\n",
       "    </tr>\n",
       "  </thead>\n",
       "  <tbody>\n",
       "    <tr>\n",
       "      <th>0</th>\n",
       "      <td>free</td>\n",
       "      <td>8</td>\n",
       "      <td>50</td>\n",
       "      <td>0</td>\n",
       "    </tr>\n",
       "    <tr>\n",
       "      <th>1</th>\n",
       "      <td>ultra</td>\n",
       "      <td>6</td>\n",
       "      <td>0</td>\n",
       "      <td>199</td>\n",
       "    </tr>\n",
       "  </tbody>\n",
       "</table>\n",
       "</div>"
      ],
      "text/plain": [
       "  subscription_type  minute_price  start_ride_price  subscription_fee\n",
       "0              free             8                50                 0\n",
       "1             ultra             6                 0               199"
      ]
     },
     "metadata": {},
     "output_type": "display_data"
    },
    {
     "name": "stdout",
     "output_type": "stream",
     "text": [
      "<class 'pandas.core.frame.DataFrame'>\n",
      "RangeIndex: 2 entries, 0 to 1\n",
      "Data columns (total 4 columns):\n",
      " #   Column             Non-Null Count  Dtype \n",
      "---  ------             --------------  ----- \n",
      " 0   subscription_type  2 non-null      object\n",
      " 1   minute_price       2 non-null      int64 \n",
      " 2   start_ride_price   2 non-null      int64 \n",
      " 3   subscription_fee   2 non-null      int64 \n",
      "dtypes: int64(3), object(1)\n",
      "memory usage: 192.0+ bytes\n"
     ]
    },
    {
     "data": {
      "text/plain": [
       "None"
      ]
     },
     "metadata": {},
     "output_type": "display_data"
    }
   ],
   "source": [
    "display(subscriptions_go.head())\n",
    "display(subscriptions_go.info())"
   ]
  },
  {
   "cell_type": "markdown",
   "id": "16664b62",
   "metadata": {},
   "source": [
    "В датафрейме с подписками у нас 2 записи, где:\n",
    "    \n",
    "subscription_type - тип подписки\n",
    "\n",
    "minute_price - стоимость одной минуты поездки по данной подписке\n",
    "\n",
    "start_ride_price - стоимость начала поездки\n",
    "\n",
    "subscription_fee - стоимость ежемесячного платежа"
   ]
  },
  {
   "cell_type": "markdown",
   "id": "e95ebca7",
   "metadata": {},
   "source": [
    "#### Шаг 2. Предобработка данных"
   ]
  },
  {
   "cell_type": "markdown",
   "id": "09d4bf65",
   "metadata": {},
   "source": [
    "_**Приведем столбец date датафрейма с поездками к типу даты pandas:**_"
   ]
  },
  {
   "cell_type": "code",
   "execution_count": 6,
   "id": "b7b61c0f",
   "metadata": {},
   "outputs": [],
   "source": [
    "rides_go['date']=pd.to_datetime(rides_go['date'], format='%Y-%m-%d')"
   ]
  },
  {
   "cell_type": "markdown",
   "id": "72f872ee",
   "metadata": {},
   "source": [
    "_Проверим применились ли изменения:_"
   ]
  },
  {
   "cell_type": "code",
   "execution_count": 7,
   "id": "668abdd6",
   "metadata": {},
   "outputs": [
    {
     "name": "stdout",
     "output_type": "stream",
     "text": [
      "datetime64[ns]\n"
     ]
    }
   ],
   "source": [
    "print(rides_go['date'].dtypes)"
   ]
  },
  {
   "cell_type": "code",
   "execution_count": 8,
   "id": "b3751c17",
   "metadata": {},
   "outputs": [
    {
     "name": "stdout",
     "output_type": "stream",
     "text": [
      "<class 'pandas.core.frame.DataFrame'>\n",
      "RangeIndex: 18068 entries, 0 to 18067\n",
      "Data columns (total 4 columns):\n",
      " #   Column    Non-Null Count  Dtype         \n",
      "---  ------    --------------  -----         \n",
      " 0   user_id   18068 non-null  int64         \n",
      " 1   distance  18068 non-null  float64       \n",
      " 2   duration  18068 non-null  float64       \n",
      " 3   date      18068 non-null  datetime64[ns]\n",
      "dtypes: datetime64[ns](1), float64(2), int64(1)\n",
      "memory usage: 564.8 KB\n"
     ]
    },
    {
     "data": {
      "text/plain": [
       "None"
      ]
     },
     "metadata": {},
     "output_type": "display_data"
    }
   ],
   "source": [
    "display(rides_go.info())"
   ]
  },
  {
   "cell_type": "markdown",
   "id": "c90b69a6",
   "metadata": {},
   "source": [
    "_Да, все отлично!_"
   ]
  },
  {
   "cell_type": "markdown",
   "id": "6b0de06d",
   "metadata": {},
   "source": [
    "**Создадим новый столбец в датафрейме с поездками с номером месяца на основе столбца date:**"
   ]
  },
  {
   "cell_type": "code",
   "execution_count": 9,
   "id": "41660633",
   "metadata": {},
   "outputs": [],
   "source": [
    "rides_go['date_month'] = pd.DatetimeIndex(rides_go['date']).month"
   ]
  },
  {
   "cell_type": "markdown",
   "id": "1a5b56f8",
   "metadata": {},
   "source": [
    "_Проверим применились ли изменения:_"
   ]
  },
  {
   "cell_type": "code",
   "execution_count": 10,
   "id": "8755c8e6",
   "metadata": {
    "scrolled": true
   },
   "outputs": [
    {
     "data": {
      "text/html": [
       "<div>\n",
       "<style scoped>\n",
       "    .dataframe tbody tr th:only-of-type {\n",
       "        vertical-align: middle;\n",
       "    }\n",
       "\n",
       "    .dataframe tbody tr th {\n",
       "        vertical-align: top;\n",
       "    }\n",
       "\n",
       "    .dataframe thead th {\n",
       "        text-align: right;\n",
       "    }\n",
       "</style>\n",
       "<table border=\"1\" class=\"dataframe\">\n",
       "  <thead>\n",
       "    <tr style=\"text-align: right;\">\n",
       "      <th></th>\n",
       "      <th>user_id</th>\n",
       "      <th>distance</th>\n",
       "      <th>duration</th>\n",
       "      <th>date</th>\n",
       "      <th>date_month</th>\n",
       "    </tr>\n",
       "  </thead>\n",
       "  <tbody>\n",
       "    <tr>\n",
       "      <th>0</th>\n",
       "      <td>1</td>\n",
       "      <td>4409.919140</td>\n",
       "      <td>25.599769</td>\n",
       "      <td>2021-01-01</td>\n",
       "      <td>1</td>\n",
       "    </tr>\n",
       "    <tr>\n",
       "      <th>1</th>\n",
       "      <td>1</td>\n",
       "      <td>2617.592153</td>\n",
       "      <td>15.816871</td>\n",
       "      <td>2021-01-18</td>\n",
       "      <td>1</td>\n",
       "    </tr>\n",
       "    <tr>\n",
       "      <th>2</th>\n",
       "      <td>1</td>\n",
       "      <td>754.159807</td>\n",
       "      <td>6.232113</td>\n",
       "      <td>2021-04-20</td>\n",
       "      <td>4</td>\n",
       "    </tr>\n",
       "    <tr>\n",
       "      <th>3</th>\n",
       "      <td>1</td>\n",
       "      <td>2694.783254</td>\n",
       "      <td>18.511000</td>\n",
       "      <td>2021-08-11</td>\n",
       "      <td>8</td>\n",
       "    </tr>\n",
       "    <tr>\n",
       "      <th>4</th>\n",
       "      <td>1</td>\n",
       "      <td>4028.687306</td>\n",
       "      <td>26.265803</td>\n",
       "      <td>2021-08-28</td>\n",
       "      <td>8</td>\n",
       "    </tr>\n",
       "  </tbody>\n",
       "</table>\n",
       "</div>"
      ],
      "text/plain": [
       "   user_id     distance   duration       date  date_month\n",
       "0        1  4409.919140  25.599769 2021-01-01           1\n",
       "1        1  2617.592153  15.816871 2021-01-18           1\n",
       "2        1   754.159807   6.232113 2021-04-20           4\n",
       "3        1  2694.783254  18.511000 2021-08-11           8\n",
       "4        1  4028.687306  26.265803 2021-08-28           8"
      ]
     },
     "metadata": {},
     "output_type": "display_data"
    },
    {
     "name": "stdout",
     "output_type": "stream",
     "text": [
      "<class 'pandas.core.frame.DataFrame'>\n",
      "RangeIndex: 18068 entries, 0 to 18067\n",
      "Data columns (total 5 columns):\n",
      " #   Column      Non-Null Count  Dtype         \n",
      "---  ------      --------------  -----         \n",
      " 0   user_id     18068 non-null  int64         \n",
      " 1   distance    18068 non-null  float64       \n",
      " 2   duration    18068 non-null  float64       \n",
      " 3   date        18068 non-null  datetime64[ns]\n",
      " 4   date_month  18068 non-null  int64         \n",
      "dtypes: datetime64[ns](1), float64(2), int64(2)\n",
      "memory usage: 705.9 KB\n"
     ]
    },
    {
     "data": {
      "text/plain": [
       "None"
      ]
     },
     "metadata": {},
     "output_type": "display_data"
    }
   ],
   "source": [
    "display(rides_go.head())\n",
    "display(rides_go.info())"
   ]
  },
  {
   "cell_type": "markdown",
   "id": "274d7a7b",
   "metadata": {},
   "source": [
    "_Да, все отлично!_"
   ]
  },
  {
   "cell_type": "markdown",
   "id": "1b8da826",
   "metadata": {},
   "source": [
    "**Проверим наличие пропущенных значений и дубликатов в датафреймах. Обработаем их, если такие значения присутствуют:**"
   ]
  },
  {
   "cell_type": "markdown",
   "id": "a32a7f8a",
   "metadata": {},
   "source": [
    "_**Датафрейм с пользователями:**_"
   ]
  },
  {
   "cell_type": "markdown",
   "id": "2041cbe5",
   "metadata": {},
   "source": [
    "Количество пропущенных значений:"
   ]
  },
  {
   "cell_type": "code",
   "execution_count": 11,
   "id": "5f2414f8",
   "metadata": {},
   "outputs": [
    {
     "data": {
      "text/plain": [
       "user_id              0\n",
       "name                 0\n",
       "age                  0\n",
       "city                 0\n",
       "subscription_type    0\n",
       "dtype: int64"
      ]
     },
     "execution_count": 11,
     "metadata": {},
     "output_type": "execute_result"
    }
   ],
   "source": [
    "users_go.isna().sum()"
   ]
  },
  {
   "cell_type": "markdown",
   "id": "62a8e307",
   "metadata": {},
   "source": [
    "Количество дубликатов:"
   ]
  },
  {
   "cell_type": "code",
   "execution_count": 12,
   "id": "c0694d8b",
   "metadata": {},
   "outputs": [
    {
     "data": {
      "text/plain": [
       "31"
      ]
     },
     "execution_count": 12,
     "metadata": {},
     "output_type": "execute_result"
    }
   ],
   "source": [
    "users_go.duplicated().sum()"
   ]
  },
  {
   "cell_type": "code",
   "execution_count": 13,
   "id": "9d6be237",
   "metadata": {},
   "outputs": [],
   "source": [
    "users_go.drop_duplicates(inplace=True)"
   ]
  },
  {
   "cell_type": "code",
   "execution_count": 14,
   "id": "9d742c38",
   "metadata": {},
   "outputs": [
    {
     "data": {
      "text/plain": [
       "0"
      ]
     },
     "execution_count": 14,
     "metadata": {},
     "output_type": "execute_result"
    }
   ],
   "source": [
    "users_go.duplicated().sum()"
   ]
  },
  {
   "cell_type": "markdown",
   "id": "deea57d6",
   "metadata": {},
   "source": [
    "Избавились от явных дубликатов!"
   ]
  },
  {
   "cell_type": "markdown",
   "id": "faaf30ff",
   "metadata": {},
   "source": [
    "_**Датафрейм с поездками:**_"
   ]
  },
  {
   "cell_type": "markdown",
   "id": "d0695db5",
   "metadata": {},
   "source": [
    "Количество пропущенных значений:"
   ]
  },
  {
   "cell_type": "code",
   "execution_count": 15,
   "id": "b4b70e58",
   "metadata": {},
   "outputs": [
    {
     "data": {
      "text/plain": [
       "user_id       0\n",
       "distance      0\n",
       "duration      0\n",
       "date          0\n",
       "date_month    0\n",
       "dtype: int64"
      ]
     },
     "execution_count": 15,
     "metadata": {},
     "output_type": "execute_result"
    }
   ],
   "source": [
    "rides_go.isna().sum()"
   ]
  },
  {
   "cell_type": "markdown",
   "id": "962fa8c5",
   "metadata": {},
   "source": [
    "Количество дубликатов:"
   ]
  },
  {
   "cell_type": "code",
   "execution_count": 16,
   "id": "cea2f33f",
   "metadata": {},
   "outputs": [
    {
     "data": {
      "text/plain": [
       "0"
      ]
     },
     "execution_count": 16,
     "metadata": {},
     "output_type": "execute_result"
    }
   ],
   "source": [
    "rides_go.duplicated().sum()"
   ]
  },
  {
   "cell_type": "markdown",
   "id": "81f4c00f",
   "metadata": {},
   "source": [
    "_**Датафрейм с подписками:**_"
   ]
  },
  {
   "cell_type": "markdown",
   "id": "a78cd4ed",
   "metadata": {},
   "source": [
    "Количество пропущенных значений:"
   ]
  },
  {
   "cell_type": "code",
   "execution_count": 17,
   "id": "6fff62bd",
   "metadata": {},
   "outputs": [
    {
     "data": {
      "text/plain": [
       "subscription_type    0\n",
       "minute_price         0\n",
       "start_ride_price     0\n",
       "subscription_fee     0\n",
       "dtype: int64"
      ]
     },
     "execution_count": 17,
     "metadata": {},
     "output_type": "execute_result"
    }
   ],
   "source": [
    "subscriptions_go.isna().sum()"
   ]
  },
  {
   "cell_type": "markdown",
   "id": "7e0ef430",
   "metadata": {},
   "source": [
    "Количество дубликатов:"
   ]
  },
  {
   "cell_type": "code",
   "execution_count": 18,
   "id": "d527524b",
   "metadata": {
    "scrolled": true
   },
   "outputs": [
    {
     "data": {
      "text/plain": [
       "0"
      ]
     },
     "execution_count": 18,
     "metadata": {},
     "output_type": "execute_result"
    }
   ],
   "source": [
    "subscriptions_go.duplicated().sum()"
   ]
  },
  {
   "cell_type": "markdown",
   "id": "48a31206",
   "metadata": {},
   "source": [
    "**Вывод:**\n",
    "- Привели столбец date датафрейма с поездками к типу даты pandas;\n",
    "- Создали новый столбец в датафрейме с поездками с номером месяца на основе столбца date;\n",
    "- Проверили наличие пропущенных значений и дубликатов в датафреймах:\n",
    "    - пропущенных значений не было ни в одном из трех датафреймов;\n",
    "    - дубликаты были только в датафрейме с пользователями, избавились от них."
   ]
  },
  {
   "cell_type": "markdown",
   "id": "212593c7",
   "metadata": {},
   "source": [
    "#### Шаг 3. Исследовательский анализ данных"
   ]
  },
  {
   "cell_type": "markdown",
   "id": "d45d8cd6",
   "metadata": {},
   "source": [
    "**Опишем и визуализируем общую информацию о пользователях и поездках:**"
   ]
  },
  {
   "cell_type": "markdown",
   "id": "f75bd120",
   "metadata": {},
   "source": [
    "_**Частота встречаемости городов:**_"
   ]
  },
  {
   "cell_type": "code",
   "execution_count": 19,
   "id": "11a7255e",
   "metadata": {},
   "outputs": [
    {
     "data": {
      "text/plain": [
       "Пятигорск         219\n",
       "Екатеринбург      204\n",
       "Ростов-на-Дону    198\n",
       "Краснодар         193\n",
       "Сочи              189\n",
       "Омск              183\n",
       "Тюмень            180\n",
       "Москва            168\n",
       "Name: city, dtype: int64"
      ]
     },
     "execution_count": 19,
     "metadata": {},
     "output_type": "execute_result"
    }
   ],
   "source": [
    "users_go['city'].value_counts()"
   ]
  },
  {
   "cell_type": "code",
   "execution_count": 20,
   "id": "225ce4b2",
   "metadata": {},
   "outputs": [
    {
     "data": {
      "image/png": "[encoded data removed]",
      "text/plain": [
       "<Figure size 432x288 with 1 Axes>"
      ]
     },
     "metadata": {
      "needs_background": "light"
     },
     "output_type": "display_data"
    }
   ],
   "source": [
    "ax = users_go['city'].value_counts(ascending = True).plot.bar()\n",
    "plt.title('Частота встречаемости городов')\n",
    "ax.set_xlabel('Города')\n",
    "ax.set_ylabel('Количество')\n",
    "plt.show()"
   ]
  },
  {
   "cell_type": "markdown",
   "id": "71f9db45",
   "metadata": {},
   "source": [
    "Пятигорск очевидный лидер среди городов, также можно заметить, что в Москве меньше всего пользователей, это можно попробовать объяснить тем, что сервис аренды самокатов GoFast ориентируется, в первую очередь, на города поменьше, где еще есть возможность конкурировать с крупными игроками проката. "
   ]
  },
  {
   "cell_type": "code",
   "execution_count": 21,
   "id": "abe03bc1",
   "metadata": {},
   "outputs": [
    {
     "data": {
      "image/png": "[encoded data removed]",
      "text/plain": [
       "<Figure size 432x288 with 1 Axes>"
      ]
     },
     "metadata": {
      "needs_background": "light"
     },
     "output_type": "display_data"
    }
   ],
   "source": [
    "ax = users_go['city'].value_counts(ascending = False).plot.bar()\n",
    "plt.title('Частота встречаемости городов')\n",
    "ax.set_xlabel('Города')\n",
    "ax.set_ylabel('Количество')\n",
    "plt.show()"
   ]
  },
  {
   "cell_type": "markdown",
   "id": "c9d5a187",
   "metadata": {},
   "source": [
    "**Соотношение пользователей с подпиской и без подписки:**"
   ]
  },
  {
   "cell_type": "code",
   "execution_count": 22,
   "id": "b7c9e429",
   "metadata": {},
   "outputs": [
    {
     "data": {
      "text/plain": [
       "free     835\n",
       "ultra    699\n",
       "Name: subscription_type, dtype: int64"
      ]
     },
     "execution_count": 22,
     "metadata": {},
     "output_type": "execute_result"
    }
   ],
   "source": [
    "users_go['subscription_type'].value_counts()"
   ]
  },
  {
   "cell_type": "code",
   "execution_count": 23,
   "id": "da369edf",
   "metadata": {},
   "outputs": [
    {
     "data": {
      "image/png": "[encoded data removed]",
      "text/plain": [
       "<Figure size 1080x576 with 1 Axes>"
      ]
     },
     "metadata": {},
     "output_type": "display_data"
    }
   ],
   "source": [
    "ax = users_go['subscription_type'].value_counts().plot(\n",
    "    kind='pie', y='votes_of_each_class', autopct='%1.0f%%', figsize=(15, 8))\n",
    "ax.set_ylabel('Тип подписки')\n",
    "plt.title('Процентное соотношение пользователей с подпиской и без подписки')\n",
    "plt.show()\n",
    "None"
   ]
  },
  {
   "cell_type": "markdown",
   "id": "538c60ad",
   "metadata": {},
   "source": [
    "Пользователей без подиски - 835 или же 54%, пользователей с подпиской Ultra - 699 или же 46%. Разница не столь велика, значит сервис проката все-таки справляется с продвиженией идеи перехода на подписку. "
   ]
  },
  {
   "cell_type": "markdown",
   "id": "5b88345e",
   "metadata": {},
   "source": [
    "**Возраст пользователей:**"
   ]
  },
  {
   "cell_type": "code",
   "execution_count": 24,
   "id": "285bd6a0",
   "metadata": {},
   "outputs": [
    {
     "data": {
      "text/plain": [
       "25    145\n",
       "24    132\n",
       "26    131\n",
       "23    129\n",
       "27    119\n",
       "22    119\n",
       "28    112\n",
       "21     93\n",
       "20     71\n",
       "30     68\n",
       "29     68\n",
       "31     48\n",
       "19     47\n",
       "18     46\n",
       "32     41\n",
       "33     39\n",
       "17     26\n",
       "34     19\n",
       "16     19\n",
       "35     15\n",
       "15     13\n",
       "14      9\n",
       "13      8\n",
       "36      6\n",
       "12      4\n",
       "38      3\n",
       "37      2\n",
       "39      1\n",
       "43      1\n",
       "Name: age, dtype: int64"
      ]
     },
     "execution_count": 24,
     "metadata": {},
     "output_type": "execute_result"
    }
   ],
   "source": [
    "users_go['age'].value_counts()"
   ]
  },
  {
   "cell_type": "code",
   "execution_count": 25,
   "id": "50193967",
   "metadata": {},
   "outputs": [
    {
     "data": {
      "text/plain": [
       "12"
      ]
     },
     "execution_count": 25,
     "metadata": {},
     "output_type": "execute_result"
    }
   ],
   "source": [
    "users_go['age'].min()"
   ]
  },
  {
   "cell_type": "code",
   "execution_count": 26,
   "id": "beeec023",
   "metadata": {},
   "outputs": [
    {
     "data": {
      "text/plain": [
       "43"
      ]
     },
     "execution_count": 26,
     "metadata": {},
     "output_type": "execute_result"
    }
   ],
   "source": [
    "users_go['age'].max()"
   ]
  },
  {
   "cell_type": "code",
   "execution_count": 27,
   "id": "e4a3414a",
   "metadata": {},
   "outputs": [
    {
     "data": {
      "text/plain": [
       "Text(0, 0.5, 'Количество пользователей')"
      ]
     },
     "execution_count": 27,
     "metadata": {},
     "output_type": "execute_result"
    },
    {
     "data": {
      "image/png": "[encoded data removed]",
      "text/plain": [
       "<Figure size 432x288 with 1 Axes>"
      ]
     },
     "metadata": {
      "needs_background": "light"
     },
     "output_type": "display_data"
    }
   ],
   "source": [
    "plt.hist(users_go['age'], bins = 10)\n",
    "plt.title('Возраст пользователей')\n",
    "plt.xlabel('Возраст')\n",
    "plt.ylabel('Количество пользователей')"
   ]
  },
  {
   "cell_type": "code",
   "execution_count": 28,
   "id": "d4c65e6b",
   "metadata": {},
   "outputs": [
    {
     "data": {
      "image/png": "[encoded data removed]",
      "text/plain": [
       "<Figure size 432x288 with 1 Axes>"
      ]
     },
     "metadata": {
      "needs_background": "light"
     },
     "output_type": "display_data"
    }
   ],
   "source": [
    "ax = users_go['age'].plot.box() \n",
    "ax.set_title('Диаграмма размаха для возраста пользователей')\n",
    "ax.set_ylabel('Возраст')\n",
    "None"
   ]
  },
  {
   "cell_type": "markdown",
   "id": "a4978076",
   "metadata": {},
   "source": [
    "Пользователи проката находятся в диапазоне от 12 до 43 лет, каждому по вкусу прокатиться на самокате независимо от возраста :)\n",
    "\n",
    "А если серьезно, то пользователи сервиса аренды в большинстве своем распределены от 20 до 30 лет."
   ]
  },
  {
   "cell_type": "markdown",
   "id": "75c46dc9",
   "metadata": {},
   "source": [
    "**Расстояние, которое пользователь преодолел за одну поездку:**"
   ]
  },
  {
   "cell_type": "code",
   "execution_count": 29,
   "id": "288ad0dc",
   "metadata": {},
   "outputs": [
    {
     "data": {
      "text/plain": [
       "0.855682925681208"
      ]
     },
     "execution_count": 29,
     "metadata": {},
     "output_type": "execute_result"
    }
   ],
   "source": [
    "rides_go['distance'].min()"
   ]
  },
  {
   "cell_type": "code",
   "execution_count": 30,
   "id": "95cfc466",
   "metadata": {},
   "outputs": [
    {
     "data": {
      "text/plain": [
       "7211.007744598519"
      ]
     },
     "execution_count": 30,
     "metadata": {},
     "output_type": "execute_result"
    }
   ],
   "source": [
    "rides_go['distance'].max()"
   ]
  },
  {
   "cell_type": "code",
   "execution_count": 31,
   "id": "5f005aac",
   "metadata": {},
   "outputs": [
    {
     "data": {
      "image/png": "[encoded data removed]",
      "text/plain": [
       "<Figure size 432x288 with 1 Axes>"
      ]
     },
     "metadata": {
      "needs_background": "light"
     },
     "output_type": "display_data"
    }
   ],
   "source": [
    "plt.hist(rides_go['distance'], bins = 100)\n",
    "plt.xlabel('Расстояние, которое пользователь преодолел за одну поездку')\n",
    "plt.ylabel('Количество поездок')\n",
    "None"
   ]
  },
  {
   "cell_type": "code",
   "execution_count": 32,
   "id": "9092db16",
   "metadata": {},
   "outputs": [
    {
     "data": {
      "image/png": "[encoded data removed]",
      "text/plain": [
       "<Figure size 432x288 with 1 Axes>"
      ]
     },
     "metadata": {
      "needs_background": "light"
     },
     "output_type": "display_data"
    }
   ],
   "source": [
    "ax = rides_go['distance'].plot.box() \n",
    "ax.set_title('Диаграмма размаха для дистанции поездки пользователей')\n",
    "ax.set_ylabel('Дистанция')\n",
    "None"
   ]
  },
  {
   "cell_type": "markdown",
   "id": "c69b8ba1",
   "metadata": {},
   "source": [
    "Самая кородкая поездка - 856 метров.\n",
    "\n",
    "Самая длительная - 7.2 километра. \n",
    "\n",
    "В основном пользователи преодолевают дистанции от 2.5 км до 4 км."
   ]
  },
  {
   "cell_type": "markdown",
   "id": "8f4a60ee",
   "metadata": {},
   "source": [
    "**Продолжительность поездок:**"
   ]
  },
  {
   "cell_type": "code",
   "execution_count": 33,
   "id": "ede18d63",
   "metadata": {},
   "outputs": [
    {
     "data": {
      "text/plain": [
       "0.5"
      ]
     },
     "execution_count": 33,
     "metadata": {},
     "output_type": "execute_result"
    }
   ],
   "source": [
    "rides_go['duration'].min()"
   ]
  },
  {
   "cell_type": "code",
   "execution_count": 34,
   "id": "844d002d",
   "metadata": {},
   "outputs": [
    {
     "data": {
      "text/plain": [
       "40.82396261922424"
      ]
     },
     "execution_count": 34,
     "metadata": {},
     "output_type": "execute_result"
    }
   ],
   "source": [
    "rides_go['duration'].max()"
   ]
  },
  {
   "cell_type": "code",
   "execution_count": 35,
   "id": "9a8ba6a2",
   "metadata": {},
   "outputs": [
    {
     "data": {
      "image/png": "[encoded data removed]",
      "text/plain": [
       "<Figure size 432x288 with 1 Axes>"
      ]
     },
     "metadata": {
      "needs_background": "light"
     },
     "output_type": "display_data"
    }
   ],
   "source": [
    "plt.hist(rides_go['duration'], bins = 100)\n",
    "plt.xlabel('Продолжительность поездки')\n",
    "plt.ylabel('Количество поездок')\n",
    "None"
   ]
  },
  {
   "cell_type": "code",
   "execution_count": 36,
   "id": "90ab2748",
   "metadata": {},
   "outputs": [
    {
     "data": {
      "image/png": "[encoded data removed]",
      "text/plain": [
       "<Figure size 432x288 with 1 Axes>"
      ]
     },
     "metadata": {
      "needs_background": "light"
     },
     "output_type": "display_data"
    }
   ],
   "source": [
    "ax = rides_go['duration'].plot.box() \n",
    "ax.set_title('Диаграмма размаха для продолжительности поездки пользователей')\n",
    "ax.set_ylabel('Продолжительность')\n",
    "None"
   ]
  },
  {
   "cell_type": "markdown",
   "id": "357334e4",
   "metadata": {},
   "source": [
    "Самая короткая поездка - полминуты, что вероятнее всего можно списать на сбой сервиса аренды. \n",
    "\n",
    "Самая длительная - 41 минута. \n",
    "\n",
    "В основном пользователи совершают поездки длительностью от 13 до 23 минут."
   ]
  },
  {
   "cell_type": "markdown",
   "id": "ef69db2c",
   "metadata": {},
   "source": [
    "**Вывод:**\n",
    "- Пятигорск очевидный лидер среди городов, также можно заметить, что в Москве меньше всего пользователей, это можно попробовать объяснить тем, что сервис аренды самокатов GoFast ориентируется, в первую очередь, на города поменьше, где еще есть возможность конкурировать с крупными игроками проката.\n",
    "- Пользователей без подиски - 835 или же 54%, пользователей с подпиской Ultra - 699 или же 46%. Разница не столь велика, значит сервис проката все-таки справляется с продвиженией идеи перехода на подписку.\n",
    "- Пользователи сервиса аренды в большинстве своем распределены от 20 до 30 лет.\n",
    "- Самая кородкая поездка - 856 метров.\n",
    "- Самая длительная - 7.2 километра.\n",
    "- В основном пользователи преодолевают дистанции от 2.5 км до 4 км.\n",
    "- Самая короткая поездка - полминуты, что вероятнее всего можно списать на сбой сервиса аренды.\n",
    "- Самая длительная - 41 минута.\n",
    "- В основном пользователи совершают поездки длительностью от 13 до 23 минут."
   ]
  },
  {
   "cell_type": "markdown",
   "id": "4ef51331",
   "metadata": {},
   "source": [
    "#### Шаг 4. Объединение данных"
   ]
  },
  {
   "cell_type": "markdown",
   "id": "a846da2a",
   "metadata": {},
   "source": [
    "**Объединим данные о пользователях, поездках и подписках в один датафрейм. Для этого воспользуемся методом merge():**"
   ]
  },
  {
   "cell_type": "code",
   "execution_count": 37,
   "id": "40cc63b4",
   "metadata": {},
   "outputs": [],
   "source": [
    "data_general = users_go.merge(rides_go)"
   ]
  },
  {
   "cell_type": "code",
   "execution_count": 38,
   "id": "2c36a239",
   "metadata": {},
   "outputs": [],
   "source": [
    "data_general = data_general.merge(subscriptions_go)"
   ]
  },
  {
   "cell_type": "code",
   "execution_count": 39,
   "id": "9d98ff93",
   "metadata": {
    "scrolled": true
   },
   "outputs": [
    {
     "data": {
      "text/html": [
       "<div>\n",
       "<style scoped>\n",
       "    .dataframe tbody tr th:only-of-type {\n",
       "        vertical-align: middle;\n",
       "    }\n",
       "\n",
       "    .dataframe tbody tr th {\n",
       "        vertical-align: top;\n",
       "    }\n",
       "\n",
       "    .dataframe thead th {\n",
       "        text-align: right;\n",
       "    }\n",
       "</style>\n",
       "<table border=\"1\" class=\"dataframe\">\n",
       "  <thead>\n",
       "    <tr style=\"text-align: right;\">\n",
       "      <th></th>\n",
       "      <th>user_id</th>\n",
       "      <th>name</th>\n",
       "      <th>age</th>\n",
       "      <th>city</th>\n",
       "      <th>subscription_type</th>\n",
       "      <th>distance</th>\n",
       "      <th>duration</th>\n",
       "      <th>date</th>\n",
       "      <th>date_month</th>\n",
       "      <th>minute_price</th>\n",
       "      <th>start_ride_price</th>\n",
       "      <th>subscription_fee</th>\n",
       "    </tr>\n",
       "  </thead>\n",
       "  <tbody>\n",
       "    <tr>\n",
       "      <th>0</th>\n",
       "      <td>1</td>\n",
       "      <td>Кира</td>\n",
       "      <td>22</td>\n",
       "      <td>Тюмень</td>\n",
       "      <td>ultra</td>\n",
       "      <td>4409.919140</td>\n",
       "      <td>25.599769</td>\n",
       "      <td>2021-01-01</td>\n",
       "      <td>1</td>\n",
       "      <td>6</td>\n",
       "      <td>0</td>\n",
       "      <td>199</td>\n",
       "    </tr>\n",
       "    <tr>\n",
       "      <th>1</th>\n",
       "      <td>1</td>\n",
       "      <td>Кира</td>\n",
       "      <td>22</td>\n",
       "      <td>Тюмень</td>\n",
       "      <td>ultra</td>\n",
       "      <td>2617.592153</td>\n",
       "      <td>15.816871</td>\n",
       "      <td>2021-01-18</td>\n",
       "      <td>1</td>\n",
       "      <td>6</td>\n",
       "      <td>0</td>\n",
       "      <td>199</td>\n",
       "    </tr>\n",
       "    <tr>\n",
       "      <th>2</th>\n",
       "      <td>1</td>\n",
       "      <td>Кира</td>\n",
       "      <td>22</td>\n",
       "      <td>Тюмень</td>\n",
       "      <td>ultra</td>\n",
       "      <td>754.159807</td>\n",
       "      <td>6.232113</td>\n",
       "      <td>2021-04-20</td>\n",
       "      <td>4</td>\n",
       "      <td>6</td>\n",
       "      <td>0</td>\n",
       "      <td>199</td>\n",
       "    </tr>\n",
       "    <tr>\n",
       "      <th>3</th>\n",
       "      <td>1</td>\n",
       "      <td>Кира</td>\n",
       "      <td>22</td>\n",
       "      <td>Тюмень</td>\n",
       "      <td>ultra</td>\n",
       "      <td>2694.783254</td>\n",
       "      <td>18.511000</td>\n",
       "      <td>2021-08-11</td>\n",
       "      <td>8</td>\n",
       "      <td>6</td>\n",
       "      <td>0</td>\n",
       "      <td>199</td>\n",
       "    </tr>\n",
       "    <tr>\n",
       "      <th>4</th>\n",
       "      <td>1</td>\n",
       "      <td>Кира</td>\n",
       "      <td>22</td>\n",
       "      <td>Тюмень</td>\n",
       "      <td>ultra</td>\n",
       "      <td>4028.687306</td>\n",
       "      <td>26.265803</td>\n",
       "      <td>2021-08-28</td>\n",
       "      <td>8</td>\n",
       "      <td>6</td>\n",
       "      <td>0</td>\n",
       "      <td>199</td>\n",
       "    </tr>\n",
       "    <tr>\n",
       "      <th>...</th>\n",
       "      <td>...</td>\n",
       "      <td>...</td>\n",
       "      <td>...</td>\n",
       "      <td>...</td>\n",
       "      <td>...</td>\n",
       "      <td>...</td>\n",
       "      <td>...</td>\n",
       "      <td>...</td>\n",
       "      <td>...</td>\n",
       "      <td>...</td>\n",
       "      <td>...</td>\n",
       "      <td>...</td>\n",
       "    </tr>\n",
       "    <tr>\n",
       "      <th>18063</th>\n",
       "      <td>1534</td>\n",
       "      <td>Альберт</td>\n",
       "      <td>25</td>\n",
       "      <td>Краснодар</td>\n",
       "      <td>free</td>\n",
       "      <td>3781.098080</td>\n",
       "      <td>19.822962</td>\n",
       "      <td>2021-11-04</td>\n",
       "      <td>11</td>\n",
       "      <td>8</td>\n",
       "      <td>50</td>\n",
       "      <td>0</td>\n",
       "    </tr>\n",
       "    <tr>\n",
       "      <th>18064</th>\n",
       "      <td>1534</td>\n",
       "      <td>Альберт</td>\n",
       "      <td>25</td>\n",
       "      <td>Краснодар</td>\n",
       "      <td>free</td>\n",
       "      <td>2840.423057</td>\n",
       "      <td>21.409799</td>\n",
       "      <td>2021-11-16</td>\n",
       "      <td>11</td>\n",
       "      <td>8</td>\n",
       "      <td>50</td>\n",
       "      <td>0</td>\n",
       "    </tr>\n",
       "    <tr>\n",
       "      <th>18065</th>\n",
       "      <td>1534</td>\n",
       "      <td>Альберт</td>\n",
       "      <td>25</td>\n",
       "      <td>Краснодар</td>\n",
       "      <td>free</td>\n",
       "      <td>3826.185507</td>\n",
       "      <td>18.435051</td>\n",
       "      <td>2021-11-18</td>\n",
       "      <td>11</td>\n",
       "      <td>8</td>\n",
       "      <td>50</td>\n",
       "      <td>0</td>\n",
       "    </tr>\n",
       "    <tr>\n",
       "      <th>18066</th>\n",
       "      <td>1534</td>\n",
       "      <td>Альберт</td>\n",
       "      <td>25</td>\n",
       "      <td>Краснодар</td>\n",
       "      <td>free</td>\n",
       "      <td>2902.308661</td>\n",
       "      <td>16.674362</td>\n",
       "      <td>2021-11-27</td>\n",
       "      <td>11</td>\n",
       "      <td>8</td>\n",
       "      <td>50</td>\n",
       "      <td>0</td>\n",
       "    </tr>\n",
       "    <tr>\n",
       "      <th>18067</th>\n",
       "      <td>1534</td>\n",
       "      <td>Альберт</td>\n",
       "      <td>25</td>\n",
       "      <td>Краснодар</td>\n",
       "      <td>free</td>\n",
       "      <td>2371.711192</td>\n",
       "      <td>15.893917</td>\n",
       "      <td>2021-12-29</td>\n",
       "      <td>12</td>\n",
       "      <td>8</td>\n",
       "      <td>50</td>\n",
       "      <td>0</td>\n",
       "    </tr>\n",
       "  </tbody>\n",
       "</table>\n",
       "<p>18068 rows × 12 columns</p>\n",
       "</div>"
      ],
      "text/plain": [
       "       user_id     name  age       city subscription_type     distance  \\\n",
       "0            1     Кира   22     Тюмень             ultra  4409.919140   \n",
       "1            1     Кира   22     Тюмень             ultra  2617.592153   \n",
       "2            1     Кира   22     Тюмень             ultra   754.159807   \n",
       "3            1     Кира   22     Тюмень             ultra  2694.783254   \n",
       "4            1     Кира   22     Тюмень             ultra  4028.687306   \n",
       "...        ...      ...  ...        ...               ...          ...   \n",
       "18063     1534  Альберт   25  Краснодар              free  3781.098080   \n",
       "18064     1534  Альберт   25  Краснодар              free  2840.423057   \n",
       "18065     1534  Альберт   25  Краснодар              free  3826.185507   \n",
       "18066     1534  Альберт   25  Краснодар              free  2902.308661   \n",
       "18067     1534  Альберт   25  Краснодар              free  2371.711192   \n",
       "\n",
       "        duration       date  date_month  minute_price  start_ride_price  \\\n",
       "0      25.599769 2021-01-01           1             6                 0   \n",
       "1      15.816871 2021-01-18           1             6                 0   \n",
       "2       6.232113 2021-04-20           4             6                 0   \n",
       "3      18.511000 2021-08-11           8             6                 0   \n",
       "4      26.265803 2021-08-28           8             6                 0   \n",
       "...          ...        ...         ...           ...               ...   \n",
       "18063  19.822962 2021-11-04          11             8                50   \n",
       "18064  21.409799 2021-11-16          11             8                50   \n",
       "18065  18.435051 2021-11-18          11             8                50   \n",
       "18066  16.674362 2021-11-27          11             8                50   \n",
       "18067  15.893917 2021-12-29          12             8                50   \n",
       "\n",
       "       subscription_fee  \n",
       "0                   199  \n",
       "1                   199  \n",
       "2                   199  \n",
       "3                   199  \n",
       "4                   199  \n",
       "...                 ...  \n",
       "18063                 0  \n",
       "18064                 0  \n",
       "18065                 0  \n",
       "18066                 0  \n",
       "18067                 0  \n",
       "\n",
       "[18068 rows x 12 columns]"
      ]
     },
     "metadata": {},
     "output_type": "display_data"
    },
    {
     "name": "stdout",
     "output_type": "stream",
     "text": [
      "<class 'pandas.core.frame.DataFrame'>\n",
      "Int64Index: 18068 entries, 0 to 18067\n",
      "Data columns (total 12 columns):\n",
      " #   Column             Non-Null Count  Dtype         \n",
      "---  ------             --------------  -----         \n",
      " 0   user_id            18068 non-null  int64         \n",
      " 1   name               18068 non-null  object        \n",
      " 2   age                18068 non-null  int64         \n",
      " 3   city               18068 non-null  object        \n",
      " 4   subscription_type  18068 non-null  object        \n",
      " 5   distance           18068 non-null  float64       \n",
      " 6   duration           18068 non-null  float64       \n",
      " 7   date               18068 non-null  datetime64[ns]\n",
      " 8   date_month         18068 non-null  int64         \n",
      " 9   minute_price       18068 non-null  int64         \n",
      " 10  start_ride_price   18068 non-null  int64         \n",
      " 11  subscription_fee   18068 non-null  int64         \n",
      "dtypes: datetime64[ns](1), float64(2), int64(6), object(3)\n",
      "memory usage: 1.8+ MB\n"
     ]
    },
    {
     "data": {
      "text/plain": [
       "None"
      ]
     },
     "metadata": {},
     "output_type": "display_data"
    }
   ],
   "source": [
    "display(data_general)\n",
    "display(data_general.info())"
   ]
  },
  {
   "cell_type": "markdown",
   "id": "764adf9a",
   "metadata": {},
   "source": [
    "**Создадим ещё два датафрейма из датафрейма, созданного выше: c данными о пользователях без подписки; с данными о пользователях с подпиской:**"
   ]
  },
  {
   "cell_type": "markdown",
   "id": "ecc431dd",
   "metadata": {},
   "source": [
    "_**Датафрейм с пользователями с подпиской:**_"
   ]
  },
  {
   "cell_type": "code",
   "execution_count": 40,
   "id": "3af709ed",
   "metadata": {},
   "outputs": [],
   "source": [
    "data_subscriptions = data_general[data_general['subscription_type'] == 'ultra']"
   ]
  },
  {
   "cell_type": "code",
   "execution_count": 41,
   "id": "4f5ff4b7",
   "metadata": {},
   "outputs": [
    {
     "data": {
      "text/html": [
       "<div>\n",
       "<style scoped>\n",
       "    .dataframe tbody tr th:only-of-type {\n",
       "        vertical-align: middle;\n",
       "    }\n",
       "\n",
       "    .dataframe tbody tr th {\n",
       "        vertical-align: top;\n",
       "    }\n",
       "\n",
       "    .dataframe thead th {\n",
       "        text-align: right;\n",
       "    }\n",
       "</style>\n",
       "<table border=\"1\" class=\"dataframe\">\n",
       "  <thead>\n",
       "    <tr style=\"text-align: right;\">\n",
       "      <th></th>\n",
       "      <th>user_id</th>\n",
       "      <th>name</th>\n",
       "      <th>age</th>\n",
       "      <th>city</th>\n",
       "      <th>subscription_type</th>\n",
       "      <th>distance</th>\n",
       "      <th>duration</th>\n",
       "      <th>date</th>\n",
       "      <th>date_month</th>\n",
       "      <th>minute_price</th>\n",
       "      <th>start_ride_price</th>\n",
       "      <th>subscription_fee</th>\n",
       "    </tr>\n",
       "  </thead>\n",
       "  <tbody>\n",
       "    <tr>\n",
       "      <th>0</th>\n",
       "      <td>1</td>\n",
       "      <td>Кира</td>\n",
       "      <td>22</td>\n",
       "      <td>Тюмень</td>\n",
       "      <td>ultra</td>\n",
       "      <td>4409.919140</td>\n",
       "      <td>25.599769</td>\n",
       "      <td>2021-01-01</td>\n",
       "      <td>1</td>\n",
       "      <td>6</td>\n",
       "      <td>0</td>\n",
       "      <td>199</td>\n",
       "    </tr>\n",
       "    <tr>\n",
       "      <th>1</th>\n",
       "      <td>1</td>\n",
       "      <td>Кира</td>\n",
       "      <td>22</td>\n",
       "      <td>Тюмень</td>\n",
       "      <td>ultra</td>\n",
       "      <td>2617.592153</td>\n",
       "      <td>15.816871</td>\n",
       "      <td>2021-01-18</td>\n",
       "      <td>1</td>\n",
       "      <td>6</td>\n",
       "      <td>0</td>\n",
       "      <td>199</td>\n",
       "    </tr>\n",
       "    <tr>\n",
       "      <th>2</th>\n",
       "      <td>1</td>\n",
       "      <td>Кира</td>\n",
       "      <td>22</td>\n",
       "      <td>Тюмень</td>\n",
       "      <td>ultra</td>\n",
       "      <td>754.159807</td>\n",
       "      <td>6.232113</td>\n",
       "      <td>2021-04-20</td>\n",
       "      <td>4</td>\n",
       "      <td>6</td>\n",
       "      <td>0</td>\n",
       "      <td>199</td>\n",
       "    </tr>\n",
       "    <tr>\n",
       "      <th>3</th>\n",
       "      <td>1</td>\n",
       "      <td>Кира</td>\n",
       "      <td>22</td>\n",
       "      <td>Тюмень</td>\n",
       "      <td>ultra</td>\n",
       "      <td>2694.783254</td>\n",
       "      <td>18.511000</td>\n",
       "      <td>2021-08-11</td>\n",
       "      <td>8</td>\n",
       "      <td>6</td>\n",
       "      <td>0</td>\n",
       "      <td>199</td>\n",
       "    </tr>\n",
       "    <tr>\n",
       "      <th>4</th>\n",
       "      <td>1</td>\n",
       "      <td>Кира</td>\n",
       "      <td>22</td>\n",
       "      <td>Тюмень</td>\n",
       "      <td>ultra</td>\n",
       "      <td>4028.687306</td>\n",
       "      <td>26.265803</td>\n",
       "      <td>2021-08-28</td>\n",
       "      <td>8</td>\n",
       "      <td>6</td>\n",
       "      <td>0</td>\n",
       "      <td>199</td>\n",
       "    </tr>\n",
       "    <tr>\n",
       "      <th>...</th>\n",
       "      <td>...</td>\n",
       "      <td>...</td>\n",
       "      <td>...</td>\n",
       "      <td>...</td>\n",
       "      <td>...</td>\n",
       "      <td>...</td>\n",
       "      <td>...</td>\n",
       "      <td>...</td>\n",
       "      <td>...</td>\n",
       "      <td>...</td>\n",
       "      <td>...</td>\n",
       "      <td>...</td>\n",
       "    </tr>\n",
       "    <tr>\n",
       "      <th>6495</th>\n",
       "      <td>699</td>\n",
       "      <td>Оксана</td>\n",
       "      <td>22</td>\n",
       "      <td>Москва</td>\n",
       "      <td>ultra</td>\n",
       "      <td>3973.046497</td>\n",
       "      <td>24.671163</td>\n",
       "      <td>2021-08-29</td>\n",
       "      <td>8</td>\n",
       "      <td>6</td>\n",
       "      <td>0</td>\n",
       "      <td>199</td>\n",
       "    </tr>\n",
       "    <tr>\n",
       "      <th>6496</th>\n",
       "      <td>699</td>\n",
       "      <td>Оксана</td>\n",
       "      <td>22</td>\n",
       "      <td>Москва</td>\n",
       "      <td>ultra</td>\n",
       "      <td>3288.702563</td>\n",
       "      <td>15.892886</td>\n",
       "      <td>2021-09-12</td>\n",
       "      <td>9</td>\n",
       "      <td>6</td>\n",
       "      <td>0</td>\n",
       "      <td>199</td>\n",
       "    </tr>\n",
       "    <tr>\n",
       "      <th>6497</th>\n",
       "      <td>699</td>\n",
       "      <td>Оксана</td>\n",
       "      <td>22</td>\n",
       "      <td>Москва</td>\n",
       "      <td>ultra</td>\n",
       "      <td>3076.159348</td>\n",
       "      <td>14.389525</td>\n",
       "      <td>2021-09-26</td>\n",
       "      <td>9</td>\n",
       "      <td>6</td>\n",
       "      <td>0</td>\n",
       "      <td>199</td>\n",
       "    </tr>\n",
       "    <tr>\n",
       "      <th>6498</th>\n",
       "      <td>699</td>\n",
       "      <td>Оксана</td>\n",
       "      <td>22</td>\n",
       "      <td>Москва</td>\n",
       "      <td>ultra</td>\n",
       "      <td>4707.845501</td>\n",
       "      <td>15.839579</td>\n",
       "      <td>2021-10-17</td>\n",
       "      <td>10</td>\n",
       "      <td>6</td>\n",
       "      <td>0</td>\n",
       "      <td>199</td>\n",
       "    </tr>\n",
       "    <tr>\n",
       "      <th>6499</th>\n",
       "      <td>699</td>\n",
       "      <td>Оксана</td>\n",
       "      <td>22</td>\n",
       "      <td>Москва</td>\n",
       "      <td>ultra</td>\n",
       "      <td>3202.890770</td>\n",
       "      <td>25.217345</td>\n",
       "      <td>2021-12-03</td>\n",
       "      <td>12</td>\n",
       "      <td>6</td>\n",
       "      <td>0</td>\n",
       "      <td>199</td>\n",
       "    </tr>\n",
       "  </tbody>\n",
       "</table>\n",
       "<p>6500 rows × 12 columns</p>\n",
       "</div>"
      ],
      "text/plain": [
       "      user_id    name  age    city subscription_type     distance   duration  \\\n",
       "0           1    Кира   22  Тюмень             ultra  4409.919140  25.599769   \n",
       "1           1    Кира   22  Тюмень             ultra  2617.592153  15.816871   \n",
       "2           1    Кира   22  Тюмень             ultra   754.159807   6.232113   \n",
       "3           1    Кира   22  Тюмень             ultra  2694.783254  18.511000   \n",
       "4           1    Кира   22  Тюмень             ultra  4028.687306  26.265803   \n",
       "...       ...     ...  ...     ...               ...          ...        ...   \n",
       "6495      699  Оксана   22  Москва             ultra  3973.046497  24.671163   \n",
       "6496      699  Оксана   22  Москва             ultra  3288.702563  15.892886   \n",
       "6497      699  Оксана   22  Москва             ultra  3076.159348  14.389525   \n",
       "6498      699  Оксана   22  Москва             ultra  4707.845501  15.839579   \n",
       "6499      699  Оксана   22  Москва             ultra  3202.890770  25.217345   \n",
       "\n",
       "           date  date_month  minute_price  start_ride_price  subscription_fee  \n",
       "0    2021-01-01           1             6                 0               199  \n",
       "1    2021-01-18           1             6                 0               199  \n",
       "2    2021-04-20           4             6                 0               199  \n",
       "3    2021-08-11           8             6                 0               199  \n",
       "4    2021-08-28           8             6                 0               199  \n",
       "...         ...         ...           ...               ...               ...  \n",
       "6495 2021-08-29           8             6                 0               199  \n",
       "6496 2021-09-12           9             6                 0               199  \n",
       "6497 2021-09-26           9             6                 0               199  \n",
       "6498 2021-10-17          10             6                 0               199  \n",
       "6499 2021-12-03          12             6                 0               199  \n",
       "\n",
       "[6500 rows x 12 columns]"
      ]
     },
     "metadata": {},
     "output_type": "display_data"
    },
    {
     "name": "stdout",
     "output_type": "stream",
     "text": [
      "<class 'pandas.core.frame.DataFrame'>\n",
      "Int64Index: 6500 entries, 0 to 6499\n",
      "Data columns (total 12 columns):\n",
      " #   Column             Non-Null Count  Dtype         \n",
      "---  ------             --------------  -----         \n",
      " 0   user_id            6500 non-null   int64         \n",
      " 1   name               6500 non-null   object        \n",
      " 2   age                6500 non-null   int64         \n",
      " 3   city               6500 non-null   object        \n",
      " 4   subscription_type  6500 non-null   object        \n",
      " 5   distance           6500 non-null   float64       \n",
      " 6   duration           6500 non-null   float64       \n",
      " 7   date               6500 non-null   datetime64[ns]\n",
      " 8   date_month         6500 non-null   int64         \n",
      " 9   minute_price       6500 non-null   int64         \n",
      " 10  start_ride_price   6500 non-null   int64         \n",
      " 11  subscription_fee   6500 non-null   int64         \n",
      "dtypes: datetime64[ns](1), float64(2), int64(6), object(3)\n",
      "memory usage: 660.2+ KB\n"
     ]
    },
    {
     "data": {
      "text/plain": [
       "None"
      ]
     },
     "metadata": {},
     "output_type": "display_data"
    }
   ],
   "source": [
    "display(data_subscriptions)\n",
    "display(data_subscriptions.info())"
   ]
  },
  {
   "cell_type": "code",
   "execution_count": 42,
   "id": "9cb750e7",
   "metadata": {},
   "outputs": [
    {
     "data": {
      "text/plain": [
       "array(['ultra'], dtype=object)"
      ]
     },
     "execution_count": 42,
     "metadata": {},
     "output_type": "execute_result"
    }
   ],
   "source": [
    "data_subscriptions['subscription_type'].unique()"
   ]
  },
  {
   "cell_type": "markdown",
   "id": "8d7c0d03",
   "metadata": {},
   "source": [
    "_**Датафрейм с пользователями без подписки:**_"
   ]
  },
  {
   "cell_type": "code",
   "execution_count": 43,
   "id": "bc668d55",
   "metadata": {},
   "outputs": [],
   "source": [
    "data_no_subscriptions = data_general[data_general['subscription_type'] == 'free']"
   ]
  },
  {
   "cell_type": "code",
   "execution_count": 44,
   "id": "326bf184",
   "metadata": {},
   "outputs": [
    {
     "data": {
      "text/html": [
       "<div>\n",
       "<style scoped>\n",
       "    .dataframe tbody tr th:only-of-type {\n",
       "        vertical-align: middle;\n",
       "    }\n",
       "\n",
       "    .dataframe tbody tr th {\n",
       "        vertical-align: top;\n",
       "    }\n",
       "\n",
       "    .dataframe thead th {\n",
       "        text-align: right;\n",
       "    }\n",
       "</style>\n",
       "<table border=\"1\" class=\"dataframe\">\n",
       "  <thead>\n",
       "    <tr style=\"text-align: right;\">\n",
       "      <th></th>\n",
       "      <th>user_id</th>\n",
       "      <th>name</th>\n",
       "      <th>age</th>\n",
       "      <th>city</th>\n",
       "      <th>subscription_type</th>\n",
       "      <th>distance</th>\n",
       "      <th>duration</th>\n",
       "      <th>date</th>\n",
       "      <th>date_month</th>\n",
       "      <th>minute_price</th>\n",
       "      <th>start_ride_price</th>\n",
       "      <th>subscription_fee</th>\n",
       "    </tr>\n",
       "  </thead>\n",
       "  <tbody>\n",
       "    <tr>\n",
       "      <th>6500</th>\n",
       "      <td>700</td>\n",
       "      <td>Айдар</td>\n",
       "      <td>22</td>\n",
       "      <td>Омск</td>\n",
       "      <td>free</td>\n",
       "      <td>2515.690719</td>\n",
       "      <td>14.944286</td>\n",
       "      <td>2021-01-02</td>\n",
       "      <td>1</td>\n",
       "      <td>8</td>\n",
       "      <td>50</td>\n",
       "      <td>0</td>\n",
       "    </tr>\n",
       "    <tr>\n",
       "      <th>6501</th>\n",
       "      <td>700</td>\n",
       "      <td>Айдар</td>\n",
       "      <td>22</td>\n",
       "      <td>Омск</td>\n",
       "      <td>free</td>\n",
       "      <td>846.932642</td>\n",
       "      <td>16.234663</td>\n",
       "      <td>2021-02-01</td>\n",
       "      <td>2</td>\n",
       "      <td>8</td>\n",
       "      <td>50</td>\n",
       "      <td>0</td>\n",
       "    </tr>\n",
       "    <tr>\n",
       "      <th>6502</th>\n",
       "      <td>700</td>\n",
       "      <td>Айдар</td>\n",
       "      <td>22</td>\n",
       "      <td>Омск</td>\n",
       "      <td>free</td>\n",
       "      <td>4004.434142</td>\n",
       "      <td>20.016628</td>\n",
       "      <td>2021-02-04</td>\n",
       "      <td>2</td>\n",
       "      <td>8</td>\n",
       "      <td>50</td>\n",
       "      <td>0</td>\n",
       "    </tr>\n",
       "    <tr>\n",
       "      <th>6503</th>\n",
       "      <td>700</td>\n",
       "      <td>Айдар</td>\n",
       "      <td>22</td>\n",
       "      <td>Омск</td>\n",
       "      <td>free</td>\n",
       "      <td>1205.911290</td>\n",
       "      <td>9.782872</td>\n",
       "      <td>2021-02-10</td>\n",
       "      <td>2</td>\n",
       "      <td>8</td>\n",
       "      <td>50</td>\n",
       "      <td>0</td>\n",
       "    </tr>\n",
       "    <tr>\n",
       "      <th>6504</th>\n",
       "      <td>700</td>\n",
       "      <td>Айдар</td>\n",
       "      <td>22</td>\n",
       "      <td>Омск</td>\n",
       "      <td>free</td>\n",
       "      <td>3047.379435</td>\n",
       "      <td>17.427673</td>\n",
       "      <td>2021-02-14</td>\n",
       "      <td>2</td>\n",
       "      <td>8</td>\n",
       "      <td>50</td>\n",
       "      <td>0</td>\n",
       "    </tr>\n",
       "    <tr>\n",
       "      <th>...</th>\n",
       "      <td>...</td>\n",
       "      <td>...</td>\n",
       "      <td>...</td>\n",
       "      <td>...</td>\n",
       "      <td>...</td>\n",
       "      <td>...</td>\n",
       "      <td>...</td>\n",
       "      <td>...</td>\n",
       "      <td>...</td>\n",
       "      <td>...</td>\n",
       "      <td>...</td>\n",
       "      <td>...</td>\n",
       "    </tr>\n",
       "    <tr>\n",
       "      <th>18063</th>\n",
       "      <td>1534</td>\n",
       "      <td>Альберт</td>\n",
       "      <td>25</td>\n",
       "      <td>Краснодар</td>\n",
       "      <td>free</td>\n",
       "      <td>3781.098080</td>\n",
       "      <td>19.822962</td>\n",
       "      <td>2021-11-04</td>\n",
       "      <td>11</td>\n",
       "      <td>8</td>\n",
       "      <td>50</td>\n",
       "      <td>0</td>\n",
       "    </tr>\n",
       "    <tr>\n",
       "      <th>18064</th>\n",
       "      <td>1534</td>\n",
       "      <td>Альберт</td>\n",
       "      <td>25</td>\n",
       "      <td>Краснодар</td>\n",
       "      <td>free</td>\n",
       "      <td>2840.423057</td>\n",
       "      <td>21.409799</td>\n",
       "      <td>2021-11-16</td>\n",
       "      <td>11</td>\n",
       "      <td>8</td>\n",
       "      <td>50</td>\n",
       "      <td>0</td>\n",
       "    </tr>\n",
       "    <tr>\n",
       "      <th>18065</th>\n",
       "      <td>1534</td>\n",
       "      <td>Альберт</td>\n",
       "      <td>25</td>\n",
       "      <td>Краснодар</td>\n",
       "      <td>free</td>\n",
       "      <td>3826.185507</td>\n",
       "      <td>18.435051</td>\n",
       "      <td>2021-11-18</td>\n",
       "      <td>11</td>\n",
       "      <td>8</td>\n",
       "      <td>50</td>\n",
       "      <td>0</td>\n",
       "    </tr>\n",
       "    <tr>\n",
       "      <th>18066</th>\n",
       "      <td>1534</td>\n",
       "      <td>Альберт</td>\n",
       "      <td>25</td>\n",
       "      <td>Краснодар</td>\n",
       "      <td>free</td>\n",
       "      <td>2902.308661</td>\n",
       "      <td>16.674362</td>\n",
       "      <td>2021-11-27</td>\n",
       "      <td>11</td>\n",
       "      <td>8</td>\n",
       "      <td>50</td>\n",
       "      <td>0</td>\n",
       "    </tr>\n",
       "    <tr>\n",
       "      <th>18067</th>\n",
       "      <td>1534</td>\n",
       "      <td>Альберт</td>\n",
       "      <td>25</td>\n",
       "      <td>Краснодар</td>\n",
       "      <td>free</td>\n",
       "      <td>2371.711192</td>\n",
       "      <td>15.893917</td>\n",
       "      <td>2021-12-29</td>\n",
       "      <td>12</td>\n",
       "      <td>8</td>\n",
       "      <td>50</td>\n",
       "      <td>0</td>\n",
       "    </tr>\n",
       "  </tbody>\n",
       "</table>\n",
       "<p>11568 rows × 12 columns</p>\n",
       "</div>"
      ],
      "text/plain": [
       "       user_id     name  age       city subscription_type     distance  \\\n",
       "6500       700    Айдар   22       Омск              free  2515.690719   \n",
       "6501       700    Айдар   22       Омск              free   846.932642   \n",
       "6502       700    Айдар   22       Омск              free  4004.434142   \n",
       "6503       700    Айдар   22       Омск              free  1205.911290   \n",
       "6504       700    Айдар   22       Омск              free  3047.379435   \n",
       "...        ...      ...  ...        ...               ...          ...   \n",
       "18063     1534  Альберт   25  Краснодар              free  3781.098080   \n",
       "18064     1534  Альберт   25  Краснодар              free  2840.423057   \n",
       "18065     1534  Альберт   25  Краснодар              free  3826.185507   \n",
       "18066     1534  Альберт   25  Краснодар              free  2902.308661   \n",
       "18067     1534  Альберт   25  Краснодар              free  2371.711192   \n",
       "\n",
       "        duration       date  date_month  minute_price  start_ride_price  \\\n",
       "6500   14.944286 2021-01-02           1             8                50   \n",
       "6501   16.234663 2021-02-01           2             8                50   \n",
       "6502   20.016628 2021-02-04           2             8                50   \n",
       "6503    9.782872 2021-02-10           2             8                50   \n",
       "6504   17.427673 2021-02-14           2             8                50   \n",
       "...          ...        ...         ...           ...               ...   \n",
       "18063  19.822962 2021-11-04          11             8                50   \n",
       "18064  21.409799 2021-11-16          11             8                50   \n",
       "18065  18.435051 2021-11-18          11             8                50   \n",
       "18066  16.674362 2021-11-27          11             8                50   \n",
       "18067  15.893917 2021-12-29          12             8                50   \n",
       "\n",
       "       subscription_fee  \n",
       "6500                  0  \n",
       "6501                  0  \n",
       "6502                  0  \n",
       "6503                  0  \n",
       "6504                  0  \n",
       "...                 ...  \n",
       "18063                 0  \n",
       "18064                 0  \n",
       "18065                 0  \n",
       "18066                 0  \n",
       "18067                 0  \n",
       "\n",
       "[11568 rows x 12 columns]"
      ]
     },
     "metadata": {},
     "output_type": "display_data"
    },
    {
     "name": "stdout",
     "output_type": "stream",
     "text": [
      "<class 'pandas.core.frame.DataFrame'>\n",
      "Int64Index: 11568 entries, 6500 to 18067\n",
      "Data columns (total 12 columns):\n",
      " #   Column             Non-Null Count  Dtype         \n",
      "---  ------             --------------  -----         \n",
      " 0   user_id            11568 non-null  int64         \n",
      " 1   name               11568 non-null  object        \n",
      " 2   age                11568 non-null  int64         \n",
      " 3   city               11568 non-null  object        \n",
      " 4   subscription_type  11568 non-null  object        \n",
      " 5   distance           11568 non-null  float64       \n",
      " 6   duration           11568 non-null  float64       \n",
      " 7   date               11568 non-null  datetime64[ns]\n",
      " 8   date_month         11568 non-null  int64         \n",
      " 9   minute_price       11568 non-null  int64         \n",
      " 10  start_ride_price   11568 non-null  int64         \n",
      " 11  subscription_fee   11568 non-null  int64         \n",
      "dtypes: datetime64[ns](1), float64(2), int64(6), object(3)\n",
      "memory usage: 1.1+ MB\n"
     ]
    },
    {
     "data": {
      "text/plain": [
       "None"
      ]
     },
     "metadata": {},
     "output_type": "display_data"
    }
   ],
   "source": [
    "display(data_no_subscriptions)\n",
    "display(data_no_subscriptions.info())"
   ]
  },
  {
   "cell_type": "code",
   "execution_count": 45,
   "id": "bae560c0",
   "metadata": {},
   "outputs": [
    {
     "data": {
      "text/plain": [
       "array(['free'], dtype=object)"
      ]
     },
     "execution_count": 45,
     "metadata": {},
     "output_type": "execute_result"
    }
   ],
   "source": [
    "data_no_subscriptions['subscription_type'].unique()"
   ]
  },
  {
   "cell_type": "markdown",
   "id": "c5ef3173",
   "metadata": {},
   "source": [
    "**Визуализируем информацию о расстоянии и времени поездок для пользователей обеих категорий:**"
   ]
  },
  {
   "cell_type": "markdown",
   "id": "b93dc754",
   "metadata": {},
   "source": [
    "_**Пользователи с подпиской:**_"
   ]
  },
  {
   "cell_type": "code",
   "execution_count": 46,
   "id": "ebf67c07",
   "metadata": {},
   "outputs": [
    {
     "data": {
      "text/plain": [
       "244.21043833522924"
      ]
     },
     "execution_count": 46,
     "metadata": {},
     "output_type": "execute_result"
    }
   ],
   "source": [
    "data_subscriptions['distance'].min()"
   ]
  },
  {
   "cell_type": "code",
   "execution_count": 47,
   "id": "0106080a",
   "metadata": {},
   "outputs": [
    {
     "data": {
      "text/plain": [
       "5699.769662039453"
      ]
     },
     "execution_count": 47,
     "metadata": {},
     "output_type": "execute_result"
    }
   ],
   "source": [
    "data_subscriptions['distance'].max()"
   ]
  },
  {
   "cell_type": "code",
   "execution_count": 48,
   "id": "ad904ff8",
   "metadata": {},
   "outputs": [
    {
     "data": {
      "image/png": "[encoded data removed]",
      "text/plain": [
       "<Figure size 432x288 with 1 Axes>"
      ]
     },
     "metadata": {
      "needs_background": "light"
     },
     "output_type": "display_data"
    }
   ],
   "source": [
    "plt.hist(data_subscriptions['distance'], bins = 30)\n",
    "plt.xlabel('Расстояние, которое пользователь с подпиской преодолел за одну поездку')\n",
    "plt.ylabel('Количество поездок')\n",
    "None"
   ]
  },
  {
   "cell_type": "code",
   "execution_count": 49,
   "id": "86be9368",
   "metadata": {},
   "outputs": [
    {
     "data": {
      "image/png": "[encoded data removed]",
      "text/plain": [
       "<Figure size 432x288 with 1 Axes>"
      ]
     },
     "metadata": {
      "needs_background": "light"
     },
     "output_type": "display_data"
    }
   ],
   "source": [
    "ax = data_subscriptions['distance'].plot.box() \n",
    "ax.set_title('Диаграмма размаха для дистанции поездки пользователей с подпиской')\n",
    "ax.set_ylabel('Дистанция')\n",
    "None"
   ]
  },
  {
   "cell_type": "code",
   "execution_count": 50,
   "id": "9ab49c75",
   "metadata": {},
   "outputs": [
    {
     "data": {
      "text/plain": [
       "count    6500.000000\n",
       "mean     3115.445388\n",
       "std       836.895330\n",
       "min       244.210438\n",
       "25%      2785.444017\n",
       "50%      3148.637229\n",
       "75%      3560.574425\n",
       "max      5699.769662\n",
       "Name: distance, dtype: float64"
      ]
     },
     "execution_count": 50,
     "metadata": {},
     "output_type": "execute_result"
    }
   ],
   "source": [
    "data_subscriptions['distance'].describe()"
   ]
  },
  {
   "cell_type": "markdown",
   "id": "c0010570",
   "metadata": {},
   "source": [
    "Пользователи с платной подпиской в основном совершают поездки от 2.8 км до 3.6 км."
   ]
  },
  {
   "cell_type": "code",
   "execution_count": 51,
   "id": "ddcdbd0e",
   "metadata": {},
   "outputs": [
    {
     "data": {
      "image/png": "[encoded data removed]",
      "text/plain": [
       "<Figure size 432x288 with 1 Axes>"
      ]
     },
     "metadata": {
      "needs_background": "light"
     },
     "output_type": "display_data"
    }
   ],
   "source": [
    "plt.hist(data_subscriptions['duration'], bins = 30)\n",
    "plt.xlabel('Продолжительность поездки пользователя с подпиской')\n",
    "plt.ylabel('Количество поездок')\n",
    "None"
   ]
  },
  {
   "cell_type": "code",
   "execution_count": 52,
   "id": "e4bc7d3a",
   "metadata": {},
   "outputs": [
    {
     "data": {
      "image/png": "[encoded data removed]",
      "text/plain": [
       "<Figure size 432x288 with 1 Axes>"
      ]
     },
     "metadata": {
      "needs_background": "light"
     },
     "output_type": "display_data"
    }
   ],
   "source": [
    "ax = data_subscriptions['duration'].plot.box() \n",
    "ax.set_title('Диаграмма размаха для продолжительности поездки пользователей с подпиской')\n",
    "ax.set_ylabel('Продолжительность')\n",
    "None"
   ]
  },
  {
   "cell_type": "code",
   "execution_count": 53,
   "id": "c0090e75",
   "metadata": {},
   "outputs": [
    {
     "data": {
      "text/plain": [
       "count    6500.000000\n",
       "mean       18.541985\n",
       "std         5.572048\n",
       "min         3.760353\n",
       "25%        14.524654\n",
       "50%        18.178153\n",
       "75%        21.884129\n",
       "max        40.823963\n",
       "Name: duration, dtype: float64"
      ]
     },
     "execution_count": 53,
     "metadata": {},
     "output_type": "execute_result"
    }
   ],
   "source": [
    "data_subscriptions['duration'].describe()"
   ]
  },
  {
   "cell_type": "markdown",
   "id": "4c5faf08",
   "metadata": {},
   "source": [
    "Пользователи с платной подпиской в основном совершают поездки от 15 до 22 минут."
   ]
  },
  {
   "cell_type": "markdown",
   "id": "0c53277f",
   "metadata": {},
   "source": [
    "_**Пользователи без подписки:**_"
   ]
  },
  {
   "cell_type": "code",
   "execution_count": 54,
   "id": "b99c93bb",
   "metadata": {},
   "outputs": [
    {
     "data": {
      "image/png": "[encoded data removed]",
      "text/plain": [
       "<Figure size 432x288 with 1 Axes>"
      ]
     },
     "metadata": {
      "needs_background": "light"
     },
     "output_type": "display_data"
    }
   ],
   "source": [
    "plt.hist(data_no_subscriptions['distance'], bins = 30)\n",
    "plt.xlabel('Расстояние, которое пользователь без подписки преодолел за одну поездку')\n",
    "plt.ylabel('Количество поездок')\n",
    "None"
   ]
  },
  {
   "cell_type": "code",
   "execution_count": 55,
   "id": "ddace5d6",
   "metadata": {},
   "outputs": [
    {
     "data": {
      "image/png": "[encoded data removed]",
      "text/plain": [
       "<Figure size 432x288 with 1 Axes>"
      ]
     },
     "metadata": {
      "needs_background": "light"
     },
     "output_type": "display_data"
    }
   ],
   "source": [
    "ax = data_no_subscriptions['distance'].plot.box() \n",
    "ax.set_title('Диаграмма размаха для дистанции поездки пользователей без подписки')\n",
    "ax.set_ylabel('Дистанция')\n",
    "None"
   ]
  },
  {
   "cell_type": "code",
   "execution_count": 56,
   "id": "049ee174",
   "metadata": {},
   "outputs": [
    {
     "data": {
      "text/plain": [
       "count    11568.000000\n",
       "mean      3045.495282\n",
       "std       1246.173806\n",
       "min          0.855683\n",
       "25%       2366.562689\n",
       "50%       3114.648465\n",
       "75%       3905.697894\n",
       "max       7211.007745\n",
       "Name: distance, dtype: float64"
      ]
     },
     "execution_count": 56,
     "metadata": {},
     "output_type": "execute_result"
    }
   ],
   "source": [
    "data_no_subscriptions['distance'].describe()"
   ]
  },
  {
   "cell_type": "markdown",
   "id": "d60e913b",
   "metadata": {},
   "source": [
    "Пользователи без подписки в основном совершают поездки от 2.3 до 4 километров."
   ]
  },
  {
   "cell_type": "code",
   "execution_count": 57,
   "id": "17e094e8",
   "metadata": {},
   "outputs": [
    {
     "data": {
      "image/png": "[encoded data removed]",
      "text/plain": [
       "<Figure size 432x288 with 1 Axes>"
      ]
     },
     "metadata": {
      "needs_background": "light"
     },
     "output_type": "display_data"
    }
   ],
   "source": [
    "plt.hist(data_no_subscriptions['duration'], bins = 30)\n",
    "plt.xlabel('Продолжительность поездки пользователя без подписки')\n",
    "plt.ylabel('Количество поездок')\n",
    "None"
   ]
  },
  {
   "cell_type": "code",
   "execution_count": 58,
   "id": "117c0f6e",
   "metadata": {},
   "outputs": [
    {
     "data": {
      "image/png": "[encoded data removed]",
      "text/plain": [
       "<Figure size 432x288 with 1 Axes>"
      ]
     },
     "metadata": {
      "needs_background": "light"
     },
     "output_type": "display_data"
    }
   ],
   "source": [
    "ax = data_no_subscriptions['duration'].plot.box() \n",
    "ax.set_title('Диаграмма размаха для продолжительности поездки пользователей без подписки')\n",
    "ax.set_ylabel('Продолжительность')\n",
    "None"
   ]
  },
  {
   "cell_type": "code",
   "execution_count": 59,
   "id": "58253058",
   "metadata": {},
   "outputs": [
    {
     "data": {
      "text/plain": [
       "count    11568.000000\n",
       "mean        17.390909\n",
       "std          6.326803\n",
       "min          0.500000\n",
       "25%         12.958437\n",
       "50%         17.326890\n",
       "75%         21.594071\n",
       "max         34.948498\n",
       "Name: duration, dtype: float64"
      ]
     },
     "execution_count": 59,
     "metadata": {},
     "output_type": "execute_result"
    }
   ],
   "source": [
    "data_no_subscriptions['duration'].describe()"
   ]
  },
  {
   "cell_type": "markdown",
   "id": "70a3a553",
   "metadata": {},
   "source": [
    "Пользователи без платной подписки в основном совершают поездки от 13 до 22 минут."
   ]
  },
  {
   "cell_type": "markdown",
   "id": "b97a30b8",
   "metadata": {},
   "source": [
    "**Вывод:**\n",
    "- Объединили данные о пользователях, поездках и подписках в один датафрейм. Для этого воспользовались методом merge().\n",
    "- Создали ещё два датафрейма из датафрейма, созданного выше: c данными о пользователях без подписки; с данными о пользователях с подпиской.\n",
    "- Визуализировали информацию о расстоянии и времени поездок для пользователей обеих категорий.\n",
    "- Пользователи с платной подпиской в основном совершают поездки от 2.8 км до 3.6 км.\n",
    "- Пользователи с платной подпиской в основном совершают поездки от 15 до 22 минут.\n",
    "- Пользователи без подписки в основном совершают поездки от 2.3 до 4 километров.\n",
    "- Пользователи без платной подписки в основном совершают поездки от 13 до 22 минут.\n",
    "\n",
    "**Можно прийти к выводу, что пользователи без подписки совершают более длительные поездки как по времени, так и по расстоянию.**"
   ]
  },
  {
   "cell_type": "markdown",
   "id": "402d620f",
   "metadata": {},
   "source": [
    "#### Шаг 5. Подсчёт выручки"
   ]
  },
  {
   "cell_type": "markdown",
   "id": "ef1f62fc",
   "metadata": {},
   "source": [
    "**Создадим датафрейм с агрегированными данными о поездках на основе датафрейма с объединёнными данными из шага 4: найдем суммарное расстояние, количество поездок и суммарное время для каждого пользователя за каждый месяц:**"
   ]
  },
  {
   "cell_type": "code",
   "execution_count": 60,
   "id": "0316da50",
   "metadata": {},
   "outputs": [
    {
     "data": {
      "text/html": [
       "<div>\n",
       "<style scoped>\n",
       "    .dataframe tbody tr th:only-of-type {\n",
       "        vertical-align: middle;\n",
       "    }\n",
       "\n",
       "    .dataframe tbody tr th {\n",
       "        vertical-align: top;\n",
       "    }\n",
       "\n",
       "    .dataframe thead th {\n",
       "        text-align: right;\n",
       "    }\n",
       "</style>\n",
       "<table border=\"1\" class=\"dataframe\">\n",
       "  <thead>\n",
       "    <tr style=\"text-align: right;\">\n",
       "      <th></th>\n",
       "      <th></th>\n",
       "      <th>distance</th>\n",
       "      <th>duration</th>\n",
       "      <th>name</th>\n",
       "      <th>subscription_type</th>\n",
       "    </tr>\n",
       "    <tr>\n",
       "      <th>date_month</th>\n",
       "      <th>user_id</th>\n",
       "      <th></th>\n",
       "      <th></th>\n",
       "      <th></th>\n",
       "      <th></th>\n",
       "    </tr>\n",
       "  </thead>\n",
       "  <tbody>\n",
       "    <tr>\n",
       "      <th rowspan=\"5\" valign=\"top\">1</th>\n",
       "      <th>1</th>\n",
       "      <td>7027.511294</td>\n",
       "      <td>41.416640</td>\n",
       "      <td>2</td>\n",
       "      <td>ultra</td>\n",
       "    </tr>\n",
       "    <tr>\n",
       "      <th>3</th>\n",
       "      <td>3061.777147</td>\n",
       "      <td>12.654443</td>\n",
       "      <td>1</td>\n",
       "      <td>ultra</td>\n",
       "    </tr>\n",
       "    <tr>\n",
       "      <th>5</th>\n",
       "      <td>3914.646990</td>\n",
       "      <td>12.395153</td>\n",
       "      <td>1</td>\n",
       "      <td>ultra</td>\n",
       "    </tr>\n",
       "    <tr>\n",
       "      <th>7</th>\n",
       "      <td>6478.080979</td>\n",
       "      <td>27.653450</td>\n",
       "      <td>2</td>\n",
       "      <td>ultra</td>\n",
       "    </tr>\n",
       "    <tr>\n",
       "      <th>12</th>\n",
       "      <td>3577.151148</td>\n",
       "      <td>32.462907</td>\n",
       "      <td>1</td>\n",
       "      <td>ultra</td>\n",
       "    </tr>\n",
       "    <tr>\n",
       "      <th>...</th>\n",
       "      <th>...</th>\n",
       "      <td>...</td>\n",
       "      <td>...</td>\n",
       "      <td>...</td>\n",
       "      <td>...</td>\n",
       "    </tr>\n",
       "    <tr>\n",
       "      <th rowspan=\"5\" valign=\"top\">12</th>\n",
       "      <th>1525</th>\n",
       "      <td>4597.854350</td>\n",
       "      <td>33.220866</td>\n",
       "      <td>1</td>\n",
       "      <td>free</td>\n",
       "    </tr>\n",
       "    <tr>\n",
       "      <th>1526</th>\n",
       "      <td>3644.121544</td>\n",
       "      <td>22.665456</td>\n",
       "      <td>1</td>\n",
       "      <td>free</td>\n",
       "    </tr>\n",
       "    <tr>\n",
       "      <th>1528</th>\n",
       "      <td>3998.569324</td>\n",
       "      <td>10.272902</td>\n",
       "      <td>1</td>\n",
       "      <td>free</td>\n",
       "    </tr>\n",
       "    <tr>\n",
       "      <th>1532</th>\n",
       "      <td>6111.889853</td>\n",
       "      <td>40.128222</td>\n",
       "      <td>2</td>\n",
       "      <td>free</td>\n",
       "    </tr>\n",
       "    <tr>\n",
       "      <th>1534</th>\n",
       "      <td>2371.711192</td>\n",
       "      <td>15.893917</td>\n",
       "      <td>1</td>\n",
       "      <td>free</td>\n",
       "    </tr>\n",
       "  </tbody>\n",
       "</table>\n",
       "<p>11331 rows × 4 columns</p>\n",
       "</div>"
      ],
      "text/plain": [
       "                       distance   duration  name subscription_type\n",
       "date_month user_id                                                \n",
       "1          1        7027.511294  41.416640     2             ultra\n",
       "           3        3061.777147  12.654443     1             ultra\n",
       "           5        3914.646990  12.395153     1             ultra\n",
       "           7        6478.080979  27.653450     2             ultra\n",
       "           12       3577.151148  32.462907     1             ultra\n",
       "...                         ...        ...   ...               ...\n",
       "12         1525     4597.854350  33.220866     1              free\n",
       "           1526     3644.121544  22.665456     1              free\n",
       "           1528     3998.569324  10.272902     1              free\n",
       "           1532     6111.889853  40.128222     2              free\n",
       "           1534     2371.711192  15.893917     1              free\n",
       "\n",
       "[11331 rows x 4 columns]"
      ]
     },
     "execution_count": 60,
     "metadata": {},
     "output_type": "execute_result"
    }
   ],
   "source": [
    "table = pd.pivot_table(data_general, \n",
    "                      index=['date_month', 'user_id'], \n",
    "                      values=['distance', 'duration', 'name', 'subscription_type'], \n",
    "                      aggfunc={'distance': np.sum,\n",
    "                               'duration': np.sum,\n",
    "                               'name' : len, \n",
    "                               'subscription_type' : min,\n",
    "                              })\n",
    "\n",
    "table"
   ]
  },
  {
   "cell_type": "code",
   "execution_count": 61,
   "id": "398a09c9",
   "metadata": {},
   "outputs": [],
   "source": [
    "table.rename(columns = {'distance':'sum_distance', 'duration': 'sum_duration', 'name' : 'count_trip'}, inplace = True )"
   ]
  },
  {
   "cell_type": "code",
   "execution_count": 62,
   "id": "4eebdbf3",
   "metadata": {},
   "outputs": [
    {
     "data": {
      "text/html": [
       "<div>\n",
       "<style scoped>\n",
       "    .dataframe tbody tr th:only-of-type {\n",
       "        vertical-align: middle;\n",
       "    }\n",
       "\n",
       "    .dataframe tbody tr th {\n",
       "        vertical-align: top;\n",
       "    }\n",
       "\n",
       "    .dataframe thead th {\n",
       "        text-align: right;\n",
       "    }\n",
       "</style>\n",
       "<table border=\"1\" class=\"dataframe\">\n",
       "  <thead>\n",
       "    <tr style=\"text-align: right;\">\n",
       "      <th></th>\n",
       "      <th></th>\n",
       "      <th>sum_distance</th>\n",
       "      <th>sum_duration</th>\n",
       "      <th>count_trip</th>\n",
       "      <th>subscription_type</th>\n",
       "    </tr>\n",
       "    <tr>\n",
       "      <th>date_month</th>\n",
       "      <th>user_id</th>\n",
       "      <th></th>\n",
       "      <th></th>\n",
       "      <th></th>\n",
       "      <th></th>\n",
       "    </tr>\n",
       "  </thead>\n",
       "  <tbody>\n",
       "    <tr>\n",
       "      <th rowspan=\"5\" valign=\"top\">1</th>\n",
       "      <th>1</th>\n",
       "      <td>7027.511294</td>\n",
       "      <td>41.416640</td>\n",
       "      <td>2</td>\n",
       "      <td>ultra</td>\n",
       "    </tr>\n",
       "    <tr>\n",
       "      <th>3</th>\n",
       "      <td>3061.777147</td>\n",
       "      <td>12.654443</td>\n",
       "      <td>1</td>\n",
       "      <td>ultra</td>\n",
       "    </tr>\n",
       "    <tr>\n",
       "      <th>5</th>\n",
       "      <td>3914.646990</td>\n",
       "      <td>12.395153</td>\n",
       "      <td>1</td>\n",
       "      <td>ultra</td>\n",
       "    </tr>\n",
       "    <tr>\n",
       "      <th>7</th>\n",
       "      <td>6478.080979</td>\n",
       "      <td>27.653450</td>\n",
       "      <td>2</td>\n",
       "      <td>ultra</td>\n",
       "    </tr>\n",
       "    <tr>\n",
       "      <th>12</th>\n",
       "      <td>3577.151148</td>\n",
       "      <td>32.462907</td>\n",
       "      <td>1</td>\n",
       "      <td>ultra</td>\n",
       "    </tr>\n",
       "    <tr>\n",
       "      <th>...</th>\n",
       "      <th>...</th>\n",
       "      <td>...</td>\n",
       "      <td>...</td>\n",
       "      <td>...</td>\n",
       "      <td>...</td>\n",
       "    </tr>\n",
       "    <tr>\n",
       "      <th rowspan=\"5\" valign=\"top\">12</th>\n",
       "      <th>1525</th>\n",
       "      <td>4597.854350</td>\n",
       "      <td>33.220866</td>\n",
       "      <td>1</td>\n",
       "      <td>free</td>\n",
       "    </tr>\n",
       "    <tr>\n",
       "      <th>1526</th>\n",
       "      <td>3644.121544</td>\n",
       "      <td>22.665456</td>\n",
       "      <td>1</td>\n",
       "      <td>free</td>\n",
       "    </tr>\n",
       "    <tr>\n",
       "      <th>1528</th>\n",
       "      <td>3998.569324</td>\n",
       "      <td>10.272902</td>\n",
       "      <td>1</td>\n",
       "      <td>free</td>\n",
       "    </tr>\n",
       "    <tr>\n",
       "      <th>1532</th>\n",
       "      <td>6111.889853</td>\n",
       "      <td>40.128222</td>\n",
       "      <td>2</td>\n",
       "      <td>free</td>\n",
       "    </tr>\n",
       "    <tr>\n",
       "      <th>1534</th>\n",
       "      <td>2371.711192</td>\n",
       "      <td>15.893917</td>\n",
       "      <td>1</td>\n",
       "      <td>free</td>\n",
       "    </tr>\n",
       "  </tbody>\n",
       "</table>\n",
       "<p>11331 rows × 4 columns</p>\n",
       "</div>"
      ],
      "text/plain": [
       "                    sum_distance  sum_duration  count_trip subscription_type\n",
       "date_month user_id                                                          \n",
       "1          1         7027.511294     41.416640           2             ultra\n",
       "           3         3061.777147     12.654443           1             ultra\n",
       "           5         3914.646990     12.395153           1             ultra\n",
       "           7         6478.080979     27.653450           2             ultra\n",
       "           12        3577.151148     32.462907           1             ultra\n",
       "...                          ...           ...         ...               ...\n",
       "12         1525      4597.854350     33.220866           1              free\n",
       "           1526      3644.121544     22.665456           1              free\n",
       "           1528      3998.569324     10.272902           1              free\n",
       "           1532      6111.889853     40.128222           2              free\n",
       "           1534      2371.711192     15.893917           1              free\n",
       "\n",
       "[11331 rows x 4 columns]"
      ]
     },
     "execution_count": 62,
     "metadata": {},
     "output_type": "execute_result"
    }
   ],
   "source": [
    "table"
   ]
  },
  {
   "cell_type": "code",
   "execution_count": 63,
   "id": "10b22fcb",
   "metadata": {},
   "outputs": [
    {
     "data": {
      "text/html": [
       "<div>\n",
       "<style scoped>\n",
       "    .dataframe tbody tr th:only-of-type {\n",
       "        vertical-align: middle;\n",
       "    }\n",
       "\n",
       "    .dataframe tbody tr th {\n",
       "        vertical-align: top;\n",
       "    }\n",
       "\n",
       "    .dataframe thead th {\n",
       "        text-align: right;\n",
       "    }\n",
       "</style>\n",
       "<table border=\"1\" class=\"dataframe\">\n",
       "  <thead>\n",
       "    <tr style=\"text-align: right;\">\n",
       "      <th></th>\n",
       "      <th></th>\n",
       "      <th>sum_distance</th>\n",
       "      <th>sum_duration</th>\n",
       "      <th>count_trip</th>\n",
       "      <th>subscription_type</th>\n",
       "    </tr>\n",
       "    <tr>\n",
       "      <th>date_month</th>\n",
       "      <th>user_id</th>\n",
       "      <th></th>\n",
       "      <th></th>\n",
       "      <th></th>\n",
       "      <th></th>\n",
       "    </tr>\n",
       "  </thead>\n",
       "  <tbody>\n",
       "    <tr>\n",
       "      <th rowspan=\"5\" valign=\"top\">1</th>\n",
       "      <th>1</th>\n",
       "      <td>7027.511294</td>\n",
       "      <td>41.416640</td>\n",
       "      <td>2</td>\n",
       "      <td>ultra</td>\n",
       "    </tr>\n",
       "    <tr>\n",
       "      <th>1061</th>\n",
       "      <td>12637.249630</td>\n",
       "      <td>41.127775</td>\n",
       "      <td>3</td>\n",
       "      <td>free</td>\n",
       "    </tr>\n",
       "    <tr>\n",
       "      <th>1063</th>\n",
       "      <td>3276.362299</td>\n",
       "      <td>9.560836</td>\n",
       "      <td>1</td>\n",
       "      <td>free</td>\n",
       "    </tr>\n",
       "    <tr>\n",
       "      <th>1064</th>\n",
       "      <td>5297.324649</td>\n",
       "      <td>14.224595</td>\n",
       "      <td>1</td>\n",
       "      <td>free</td>\n",
       "    </tr>\n",
       "    <tr>\n",
       "      <th>1065</th>\n",
       "      <td>14547.099333</td>\n",
       "      <td>96.301646</td>\n",
       "      <td>4</td>\n",
       "      <td>free</td>\n",
       "    </tr>\n",
       "  </tbody>\n",
       "</table>\n",
       "</div>"
      ],
      "text/plain": [
       "                    sum_distance  sum_duration  count_trip subscription_type\n",
       "date_month user_id                                                          \n",
       "1          1         7027.511294     41.416640           2             ultra\n",
       "           1061     12637.249630     41.127775           3              free\n",
       "           1063      3276.362299      9.560836           1              free\n",
       "           1064      5297.324649     14.224595           1              free\n",
       "           1065     14547.099333     96.301646           4              free"
      ]
     },
     "execution_count": 63,
     "metadata": {},
     "output_type": "execute_result"
    }
   ],
   "source": [
    "table.sort_values(by='date_month').head()"
   ]
  },
  {
   "cell_type": "markdown",
   "id": "3545de4f",
   "metadata": {},
   "source": [
    "**В этот же датафрейм добавим столбец с помесячной выручкой, которую принёс каждый пользователь. Для этого обратимся к информации об условиях оплаты для подписчиков и тех, у кого нет подписки. Продолжительность каждой поездки в каждой строке исходного датафрейма для подсчёта стоимости округляется до следующего целого числа: например, 25.3, 25.5 и 26.0 должны быть преобразованы к 26.**"
   ]
  },
  {
   "cell_type": "markdown",
   "id": "bee33d1f",
   "metadata": {},
   "source": [
    "_Для начала округлим продолжительность каждой поездки для подсчета стоимости:_"
   ]
  },
  {
   "cell_type": "code",
   "execution_count": 64,
   "id": "d2cc3d43",
   "metadata": {},
   "outputs": [],
   "source": [
    "table['sum_duration'] = np.ceil(table['sum_duration'])"
   ]
  },
  {
   "cell_type": "markdown",
   "id": "e7853b8a",
   "metadata": {},
   "source": [
    "_Напишем функцию подсчета стоимости:_"
   ]
  },
  {
   "cell_type": "code",
   "execution_count": 65,
   "id": "228aa9e4",
   "metadata": {},
   "outputs": [],
   "source": [
    "def income(row):\n",
    "    if row['subscription_type'] == 'ultra':\n",
    "        row['income_month'] = 199 + row['sum_duration'] * 6 \n",
    "    else:\n",
    "        row['income_month'] = 50 * row['count_trip'] + row['sum_duration'] * 8 \n",
    "    return row['income_month']\n",
    "\n",
    "table['income_month'] = table.apply(income, axis=1)"
   ]
  },
  {
   "cell_type": "code",
   "execution_count": 66,
   "id": "2eb11ae7",
   "metadata": {},
   "outputs": [
    {
     "data": {
      "text/html": [
       "<div>\n",
       "<style scoped>\n",
       "    .dataframe tbody tr th:only-of-type {\n",
       "        vertical-align: middle;\n",
       "    }\n",
       "\n",
       "    .dataframe tbody tr th {\n",
       "        vertical-align: top;\n",
       "    }\n",
       "\n",
       "    .dataframe thead th {\n",
       "        text-align: right;\n",
       "    }\n",
       "</style>\n",
       "<table border=\"1\" class=\"dataframe\">\n",
       "  <thead>\n",
       "    <tr style=\"text-align: right;\">\n",
       "      <th></th>\n",
       "      <th></th>\n",
       "      <th>sum_distance</th>\n",
       "      <th>sum_duration</th>\n",
       "      <th>count_trip</th>\n",
       "      <th>subscription_type</th>\n",
       "      <th>income_month</th>\n",
       "    </tr>\n",
       "    <tr>\n",
       "      <th>date_month</th>\n",
       "      <th>user_id</th>\n",
       "      <th></th>\n",
       "      <th></th>\n",
       "      <th></th>\n",
       "      <th></th>\n",
       "      <th></th>\n",
       "    </tr>\n",
       "  </thead>\n",
       "  <tbody>\n",
       "    <tr>\n",
       "      <th rowspan=\"5\" valign=\"top\">1</th>\n",
       "      <th>1</th>\n",
       "      <td>7027.511294</td>\n",
       "      <td>42.0</td>\n",
       "      <td>2</td>\n",
       "      <td>ultra</td>\n",
       "      <td>451.0</td>\n",
       "    </tr>\n",
       "    <tr>\n",
       "      <th>3</th>\n",
       "      <td>3061.777147</td>\n",
       "      <td>13.0</td>\n",
       "      <td>1</td>\n",
       "      <td>ultra</td>\n",
       "      <td>277.0</td>\n",
       "    </tr>\n",
       "    <tr>\n",
       "      <th>5</th>\n",
       "      <td>3914.646990</td>\n",
       "      <td>13.0</td>\n",
       "      <td>1</td>\n",
       "      <td>ultra</td>\n",
       "      <td>277.0</td>\n",
       "    </tr>\n",
       "    <tr>\n",
       "      <th>7</th>\n",
       "      <td>6478.080979</td>\n",
       "      <td>28.0</td>\n",
       "      <td>2</td>\n",
       "      <td>ultra</td>\n",
       "      <td>367.0</td>\n",
       "    </tr>\n",
       "    <tr>\n",
       "      <th>12</th>\n",
       "      <td>3577.151148</td>\n",
       "      <td>33.0</td>\n",
       "      <td>1</td>\n",
       "      <td>ultra</td>\n",
       "      <td>397.0</td>\n",
       "    </tr>\n",
       "    <tr>\n",
       "      <th>...</th>\n",
       "      <th>...</th>\n",
       "      <td>...</td>\n",
       "      <td>...</td>\n",
       "      <td>...</td>\n",
       "      <td>...</td>\n",
       "      <td>...</td>\n",
       "    </tr>\n",
       "    <tr>\n",
       "      <th rowspan=\"5\" valign=\"top\">12</th>\n",
       "      <th>1525</th>\n",
       "      <td>4597.854350</td>\n",
       "      <td>34.0</td>\n",
       "      <td>1</td>\n",
       "      <td>free</td>\n",
       "      <td>322.0</td>\n",
       "    </tr>\n",
       "    <tr>\n",
       "      <th>1526</th>\n",
       "      <td>3644.121544</td>\n",
       "      <td>23.0</td>\n",
       "      <td>1</td>\n",
       "      <td>free</td>\n",
       "      <td>234.0</td>\n",
       "    </tr>\n",
       "    <tr>\n",
       "      <th>1528</th>\n",
       "      <td>3998.569324</td>\n",
       "      <td>11.0</td>\n",
       "      <td>1</td>\n",
       "      <td>free</td>\n",
       "      <td>138.0</td>\n",
       "    </tr>\n",
       "    <tr>\n",
       "      <th>1532</th>\n",
       "      <td>6111.889853</td>\n",
       "      <td>41.0</td>\n",
       "      <td>2</td>\n",
       "      <td>free</td>\n",
       "      <td>428.0</td>\n",
       "    </tr>\n",
       "    <tr>\n",
       "      <th>1534</th>\n",
       "      <td>2371.711192</td>\n",
       "      <td>16.0</td>\n",
       "      <td>1</td>\n",
       "      <td>free</td>\n",
       "      <td>178.0</td>\n",
       "    </tr>\n",
       "  </tbody>\n",
       "</table>\n",
       "<p>11331 rows × 5 columns</p>\n",
       "</div>"
      ],
      "text/plain": [
       "                    sum_distance  sum_duration  count_trip subscription_type  \\\n",
       "date_month user_id                                                             \n",
       "1          1         7027.511294          42.0           2             ultra   \n",
       "           3         3061.777147          13.0           1             ultra   \n",
       "           5         3914.646990          13.0           1             ultra   \n",
       "           7         6478.080979          28.0           2             ultra   \n",
       "           12        3577.151148          33.0           1             ultra   \n",
       "...                          ...           ...         ...               ...   \n",
       "12         1525      4597.854350          34.0           1              free   \n",
       "           1526      3644.121544          23.0           1              free   \n",
       "           1528      3998.569324          11.0           1              free   \n",
       "           1532      6111.889853          41.0           2              free   \n",
       "           1534      2371.711192          16.0           1              free   \n",
       "\n",
       "                    income_month  \n",
       "date_month user_id                \n",
       "1          1               451.0  \n",
       "           3               277.0  \n",
       "           5               277.0  \n",
       "           7               367.0  \n",
       "           12              397.0  \n",
       "...                          ...  \n",
       "12         1525            322.0  \n",
       "           1526            234.0  \n",
       "           1528            138.0  \n",
       "           1532            428.0  \n",
       "           1534            178.0  \n",
       "\n",
       "[11331 rows x 5 columns]"
      ]
     },
     "execution_count": 66,
     "metadata": {},
     "output_type": "execute_result"
    }
   ],
   "source": [
    "table"
   ]
  },
  {
   "cell_type": "markdown",
   "id": "003e80c2",
   "metadata": {},
   "source": [
    "**Вывод:**\n",
    "- Создали датафрейм с агрегированными данными о поездках на основе датафрейма с объединёнными данными: нашли суммарное расстояние, количество поездок и суммарное время для каждого пользователя за каждый месяц.\n",
    "- В этот же датафрейм добавили столбец (income_month) с помесячной выручкой, которую принёс каждый пользователь. Для этого обратились к информации об условиях оплаты для подписчиков и тех, у кого нет подписки. Продолжительность каждой поездки преобразовали для удобства подсчета."
   ]
  },
  {
   "cell_type": "markdown",
   "id": "41545ac0",
   "metadata": {},
   "source": [
    "#### Шаг 6. Проверка гипотез"
   ]
  },
  {
   "cell_type": "markdown",
   "id": "19ac8377",
   "metadata": {},
   "source": [
    "**Важно понять, тратят ли пользователи с подпиской больше времени на поездки? Если да, то пользователи с подпиской могут быть «выгоднее» для компании. Проверим гипотезу. Будем использовать исходные данные о продолжительности каждой сессии — отдельно для подписчиков и тех, у кого нет подписки:**"
   ]
  },
  {
   "cell_type": "markdown",
   "id": "f09327ed",
   "metadata": {},
   "source": [
    "*H_0 (нулевая гипотеза)* = пользователи с подпиской тратят столько же времени на поездки сколько и пользователи и без подписки;\n",
    "\n",
    "*H_1* = пользователи с подпиской тратят больше времени на поездки чем пользователи без подписки."
   ]
  },
  {
   "cell_type": "code",
   "execution_count": 67,
   "id": "1b9a9c46",
   "metadata": {},
   "outputs": [
    {
     "name": "stdout",
     "output_type": "stream",
     "text": [
      "p-значение: 1.2804098316645618e-34\n",
      "Отвергаем нулевую гипотезу\n"
     ]
    }
   ],
   "source": [
    "free_subscription = data_no_subscriptions['duration']\n",
    "ultra_subscription = data_subscriptions['duration']\n",
    "\n",
    "\n",
    "alpha = 0.05 # зададим уровень стат. значимости\n",
    "\n",
    "results = st.ttest_ind(ultra_subscription, free_subscription, alternative = 'greater') \n",
    "\n",
    "# выведим на экран получившееся p-значение\n",
    "print('p-значение:', results.pvalue)\n",
    "\n",
    "if results.pvalue < alpha: # сравним получившееся p-значение с alpha\n",
    "    print('Отвергаем нулевую гипотезу')\n",
    "else:\n",
    "    print('Не получилось отвергнуть нулевую гипотезу')"
   ]
  },
  {
   "cell_type": "markdown",
   "id": "a27b54ea",
   "metadata": {},
   "source": [
    "Проверили и отвергли нулевую гипотезу о том, что пользователи с подпиской тратят столько же времени на поездки сколько и пользователи и без подписки."
   ]
  },
  {
   "cell_type": "markdown",
   "id": "b50fd1c9",
   "metadata": {},
   "source": [
    "**Расстояние одной поездки в 3130 метров — оптимальное с точки зрения износа самоката. Можно ли сказать, что среднее расстояние, которое проезжают пользователи с подпиской за одну поездку, не превышает 3130 метров? Проверим гипотезу и сделаем выводы.**"
   ]
  },
  {
   "cell_type": "markdown",
   "id": "1efe7737",
   "metadata": {},
   "source": [
    "*H_0 (нулевая гипотеза)* = среднее расстояние, которое проезжают пользователи с подпиской за одну поездку равно 3130 метров;\n",
    "\n",
    "*H_1* = среднее расстояние, которое проезжают пользователи с подпиской за одну поездку больше 3130 метров."
   ]
  },
  {
   "cell_type": "code",
   "execution_count": 68,
   "id": "124ec933",
   "metadata": {},
   "outputs": [
    {
     "name": "stdout",
     "output_type": "stream",
     "text": [
      "p-значение: 0.08046311521502146\n",
      "Не отвергаем нулевую гипотезу\n"
     ]
    }
   ],
   "source": [
    "from scipy import stats as st\n",
    "import pandas as pd\n",
    "\n",
    "ultra_subscription = data_subscriptions['distance']\n",
    "\n",
    "optimal_distance = 3130\n",
    "\n",
    "alpha = 0.05 # уровень статистической значимости\n",
    "\n",
    "results = st.ttest_1samp(\n",
    "    ultra_subscription, \n",
    "    optimal_distance,\n",
    "      alternative='less')\n",
    "\n",
    "print('p-значение:', results.pvalue)\n",
    "\n",
    "if (results.pvalue < alpha):\n",
    "    print('Отвергаем нулевую гипотезу')\n",
    "else:\n",
    "    print('Не отвергаем нулевую гипотезу')"
   ]
  },
  {
   "cell_type": "markdown",
   "id": "b3e0382a",
   "metadata": {},
   "source": [
    "Не смогли опровергнуть нулевую гипотезу о том, что среднее расстояние, которое проезжают пользователи с подпиской за одну поездку равно 3130 метров."
   ]
  },
  {
   "cell_type": "markdown",
   "id": "a11582e2",
   "metadata": {},
   "source": [
    "**Проверим гипотезу о том, будет ли помесячная выручка от пользователей с подпиской по месяцам выше, чем выручка от пользователей без подписки. Сделаем вывод.**"
   ]
  },
  {
   "cell_type": "markdown",
   "id": "62c0bc40",
   "metadata": {},
   "source": [
    "*H_0 (нулевая гипотеза)* = помесячная выручка от пользователей с подпиской по месяцам такая же как и у пользователей без подписки;\n",
    "\n",
    "*H_1* = помесячная выручка от пользователей с подпиской по месяцам больше чем у  пользователей без подписки."
   ]
  },
  {
   "cell_type": "code",
   "execution_count": 69,
   "id": "3feb9a6a",
   "metadata": {},
   "outputs": [
    {
     "name": "stdout",
     "output_type": "stream",
     "text": [
      "p-значение: 2.8130926188487286e-35\n",
      "Отвергаем нулевую гипотезу\n"
     ]
    }
   ],
   "source": [
    "free_subscription = table.loc[table.subscription_type == 'free', 'income_month'] \n",
    "ultra_subscription = table.loc[table.subscription_type == 'ultra', 'income_month'] \n",
    "\n",
    "\n",
    "alpha = 0.05 # зададим уровень стат. значимости\n",
    "\n",
    "results = st.ttest_ind(ultra_subscription, free_subscription, alternative = 'greater') \n",
    "\n",
    "# выведим на экран получившееся p-значение\n",
    "print('p-значение:', results.pvalue)\n",
    "\n",
    "if results.pvalue < alpha: # сравним получившееся p-значение с alpha\n",
    "    print('Отвергаем нулевую гипотезу')\n",
    "else:\n",
    "    print('Не получилось отвергнуть нулевую гипотезу')"
   ]
  },
  {
   "cell_type": "markdown",
   "id": "af222d79",
   "metadata": {},
   "source": [
    "Отвергаем нулевую гипотезу о том, что помесячная выручка от пользователей с подпиской по месяцам такая же как и у пользователей без подписки, можно утверждать, что выручка пользователей с подпиской превышает выручку с пользователей без подписки. "
   ]
  },
  {
   "cell_type": "markdown",
   "id": "a611a8e4",
   "metadata": {},
   "source": [
    "**Представим такую ситуацию: техническая команда сервиса обновила сервера, с которыми взаимодействует мобильное приложение. Она надеется, что из-за этого количество обращений в техподдержку значимо снизилось. Некоторый файл содержит для каждого пользователя данные о количестве обращений до обновления и после него. Какой тест нам понадобился бы для проверки этой гипотезы?**"
   ]
  },
  {
   "cell_type": "markdown",
   "id": "2bab40f4",
   "metadata": {},
   "source": [
    "Гипотезу о равенстве среднего значения генеральной совокупности до и после изменения тестом: scipy.stats.ttest_rel.\n",
    "\n",
    "\n",
    "Надо будет указать alternative='greater', проверится правосторонняя альтернативная гипотеза о том, что истинное среднее генеральной совокупности до изменения больше, чем истинное среднее генеральной совокупности после изменения."
   ]
  },
  {
   "cell_type": "markdown",
   "id": "61213c5e",
   "metadata": {},
   "source": [
    "#### Шаг 7. Распределения"
   ]
  },
  {
   "cell_type": "markdown",
   "id": "04fec328",
   "metadata": {},
   "source": [
    "Отдел маркетинга рассылает клиентам push-уведомления в мобильном приложении. Клиенты могут открыть его или не открывать. Известно, что уведомления открывают около 40 % получивших клиентов. Отдел планирует разослать 1 млн уведомлений. С помощью аппроксимации построим примерный график распределения и оценим вероятность того, что уведомление откроют не более 399,5 тыс. пользователей."
   ]
  },
  {
   "cell_type": "code",
   "execution_count": 70,
   "id": "3131eeea",
   "metadata": {},
   "outputs": [
    {
     "name": "stdout",
     "output_type": "stream",
     "text": [
      "0.8462829170363023\n"
     ]
    }
   ],
   "source": [
    "# задаём параметры биномиального распределения\n",
    "n = 1000000\n",
    "p = 0.4\n",
    "\n",
    "# задаём параметры нормального распределения равными\n",
    "# мат.ожиданию и дисперсии биномиального распределения\n",
    "mu = n * p\n",
    "sigma = sqrt(n * p * (1 - p))\n",
    "\n",
    "# задаём нормальное распределение\n",
    "distr = st.norm(mu, sigma) \n",
    "\n",
    "# считаем вероятность хвоста слева от 43 тысяч\n",
    "result = 1 - distr.cdf(399500)\n",
    "print(result)"
   ]
  },
  {
   "cell_type": "code",
   "execution_count": 71,
   "id": "9e0cba3f",
   "metadata": {},
   "outputs": [
    {
     "data": {
      "image/png": "[encoded data removed]",
      "text/plain": [
       "<Figure size 432x288 with 1 Axes>"
      ]
     },
     "metadata": {
      "needs_background": "light"
     },
     "output_type": "display_data"
    }
   ],
   "source": [
    "# Задаём параметры биномиального распределения\n",
    "n = 1000000\n",
    "p = 0.4\n",
    "\n",
    "# Задаём параметры нормального распределения равными мат. ожиданию и дисперсии биномиального распределения\n",
    "mu = n * p\n",
    "sigma = np.sqrt(n * p * (1 - p))\n",
    "\n",
    "# Задаём нормальное распределение\n",
    "distr = st.norm(mu, sigma)\n",
    "\n",
    "# Создаем массив значений для построения графика\n",
    "x = np.linspace(mu - 3*sigma, mu + 3*sigma)\n",
    "\n",
    "# Вычисляем плотность вероятности для каждого значения x\n",
    "pdf = st.norm.pdf(x, mu, sigma)\n",
    "\n",
    "# Строим график\n",
    "plt.plot(x, pdf, label='Нормальное распределение')\n",
    "plt.xlabel('Значение')\n",
    "plt.ylabel('Плотность вероятности')\n",
    "plt.title('График нормального распределения')\n",
    "plt.legend()\n",
    "plt.grid(True)\n",
    "plt.show()"
   ]
  },
  {
   "cell_type": "markdown",
   "id": "10f0bc7a",
   "metadata": {},
   "source": [
    "Вероятность того, что уведомление откроют не более 399,5 тыс. пользователей почти 85%."
   ]
  },
  {
   "cell_type": "markdown",
   "id": "7167d070",
   "metadata": {},
   "source": [
    "**Общий вывод:**\n",
    "- Считали CSV-файлы с данными с помощью библиотеки pandas и сохранили  их в датафреймы. Вывели первые строки каждого набора данных. Изучили общую информацию о каждом датафрейме.\n",
    "\n",
    "\n",
    "_**При предобработке данных:**_\n",
    "- Привели столбец date датафрейма с поездками к типу даты pandas;\n",
    "- Создали новый столбец в датафрейме с поездками с номером месяца на основе столбца date;\n",
    "- Проверили наличие пропущенных значений и дубликатов в датафреймах:\n",
    "    - пропущенных значений не было ни в одном из трех датафреймов;\n",
    "    - дубликаты были только в датафрейме с пользователями, избавились от них.\n",
    "    \n",
    "_**При исследовательском анализе данных пришли к следующим выводам:**_\n",
    "- Пятигорск очевидный лидер среди городов, также можно заметить, что в Москве меньше всего пользователей, это можно попробовать объяснить тем, что сервис аренды самокатов GoFast ориентируется, в первую очередь, на города поменьше, где еще есть возможность конкурировать с крупными игроками проката.\n",
    "- Пользователей без подиски - 835 или же 54%, пользователей с подпиской Ultra - 699 или же 46%. Разница не столь велика, значит сервис проката все-таки справляется с продвиженией идеи перехода на подписку.\n",
    "- Пользователи сервиса аренды в большинстве своем распределены от 20 до 30 лет.\n",
    "- Самая кородкая поездка - 856 метров.\n",
    "- Самая длительная - 7.2 километра.\n",
    "- В основном пользователи преодолевают дистанции от 2.5 км до 4 км.\n",
    "- Самая короткая поездка - полминуты, что вероятнее всего можно списать на сбой сервиса аренды.\n",
    "- Самая длительная - 41 минута.\n",
    "- В основном пользователи совершают поездки длительностью от 13 до 23 минут.\n",
    "\n",
    "\n",
    "_**Также объединили данные и провели еще исследование:**_\n",
    "- Объединили данные о пользователях, поездках и подписках в один датафрейм. Для этого воспользовались методом merge().\n",
    "- Создали ещё два датафрейма из датафрейма, созданного выше: c данными о пользователях без подписки; с данными о пользователях с подпиской.\n",
    "- Визуализировали информацию о расстоянии и времени поездок для пользователей обеих категорий.\n",
    "- Пользователи с платной подпиской в основном совершают поездки от 2.8 км до 3.6 км.\n",
    "- Пользователи с платной подпиской в основном совершают поездки от 15 до 22 минут.\n",
    "- Пользователи без подписки в основном совершают поездки от 2.3 до 4 километров.\n",
    "- Пользователи без платной подписки в основном совершают поездки от 13 до 22 минут.\n",
    "- Пришли к выводу, что пользователи без подписки совершают более длительные поездки как по времени, так и по расстоянию.\n",
    "\n",
    "\n",
    "_**Занились подсчетом выручки, а для этого:**_\n",
    "- Создали датафрейм с агрегированными данными о поездках на основе датафрейма с объединёнными данными: нашли суммарное расстояние, количество поездок и суммарное время для каждого пользователя за каждый месяц.\n",
    "- В этот же датафрейм добавили столбец (income_month) с помесячной выручкой, которую принёс каждый пользователь. Для этого обратились к информации об условиях оплаты для подписчиков и тех, у кого нет подписки. Продолжительность каждой поездки преобразовали для удобства подсчета.\n",
    "\n",
    "\n",
    "\n",
    "_**Выполнили проверку некоторых гипотез:**_\n",
    "- Проверили и отвергли нулевую гипотезу о том, что пользователи с подпиской тратят столько же времени на поездки сколько и пользователи и без подписки.\n",
    "- Не смогли опровергнуть нулевую гипотезу о том, что среднее расстояние, которое проезжают пользователи с подпиской за одну поездку равно 3130 метров.\n",
    "- Отвергнули нулевую гипотезу о том, что помесячная выручка от пользователей с подпиской по месяцам такая же как и у пользователей без подписки, можно утверждать, что выручка пользователей с подпиской превышает выручку с пользователей без подписки."
   ]
  }
 ],
 "metadata": {
  "ExecuteTimeLog": [
   {
    "duration": 96,
    "start_time": "2023-09-01T14:19:31.411Z"
   },
   {
    "duration": 80,
    "start_time": "2023-09-01T14:20:11.913Z"
   },
   {
    "duration": 120,
    "start_time": "2023-09-01T14:20:45.663Z"
   },
   {
    "duration": 98,
    "start_time": "2023-09-01T14:22:10.795Z"
   },
   {
    "duration": 103,
    "start_time": "2023-09-01T14:22:22.761Z"
   },
   {
    "duration": 181,
    "start_time": "2023-09-01T14:23:24.776Z"
   },
   {
    "duration": 100,
    "start_time": "2023-09-01T14:23:33.992Z"
   },
   {
    "duration": 407,
    "start_time": "2023-09-01T14:46:54.761Z"
   },
   {
    "duration": 260,
    "start_time": "2023-09-01T14:49:44.501Z"
   },
   {
    "duration": 25,
    "start_time": "2023-09-01T14:52:52.567Z"
   },
   {
    "duration": 17,
    "start_time": "2023-09-01T14:53:14.772Z"
   },
   {
    "duration": 30,
    "start_time": "2023-09-01T14:53:19.937Z"
   },
   {
    "duration": 17,
    "start_time": "2023-09-01T14:53:34.667Z"
   },
   {
    "duration": 24,
    "start_time": "2023-09-01T14:54:31.522Z"
   },
   {
    "duration": 7,
    "start_time": "2023-09-01T15:17:13.992Z"
   },
   {
    "duration": 70,
    "start_time": "2023-09-01T15:18:05.721Z"
   },
   {
    "duration": 8,
    "start_time": "2023-09-01T15:18:20.301Z"
   },
   {
    "duration": 3,
    "start_time": "2023-09-01T15:18:39.774Z"
   },
   {
    "duration": 10,
    "start_time": "2023-09-01T15:19:16.603Z"
   },
   {
    "duration": 73,
    "start_time": "2023-09-01T15:22:22.187Z"
   },
   {
    "duration": 6,
    "start_time": "2023-09-01T15:29:15.670Z"
   },
   {
    "duration": 18,
    "start_time": "2023-09-01T15:30:00.099Z"
   },
   {
    "duration": 121,
    "start_time": "2023-09-01T15:46:05.792Z"
   },
   {
    "duration": 6,
    "start_time": "2023-09-01T15:46:35.530Z"
   },
   {
    "duration": 8,
    "start_time": "2023-09-01T15:47:16.005Z"
   },
   {
    "duration": 7,
    "start_time": "2023-09-01T15:48:00.919Z"
   },
   {
    "duration": 6,
    "start_time": "2023-09-01T15:48:12.460Z"
   },
   {
    "duration": 5,
    "start_time": "2023-09-01T15:51:19.454Z"
   },
   {
    "duration": 7,
    "start_time": "2023-09-01T15:51:28.248Z"
   },
   {
    "duration": 79,
    "start_time": "2023-09-01T15:52:05.527Z"
   },
   {
    "duration": 8,
    "start_time": "2023-09-01T15:54:04.296Z"
   },
   {
    "duration": 8,
    "start_time": "2023-09-01T15:54:15.159Z"
   },
   {
    "duration": 6,
    "start_time": "2023-09-01T15:55:56.554Z"
   },
   {
    "duration": 4,
    "start_time": "2023-09-01T15:56:42.553Z"
   },
   {
    "duration": 5,
    "start_time": "2023-09-01T15:57:01.323Z"
   },
   {
    "duration": 5,
    "start_time": "2023-09-01T16:14:46.445Z"
   },
   {
    "duration": 629,
    "start_time": "2023-09-01T16:17:47.742Z"
   },
   {
    "duration": 3,
    "start_time": "2023-09-01T16:18:12.211Z"
   },
   {
    "duration": 119,
    "start_time": "2023-09-01T16:18:15.642Z"
   },
   {
    "duration": 136,
    "start_time": "2023-09-01T16:22:16.625Z"
   },
   {
    "duration": 139,
    "start_time": "2023-09-01T16:23:12.211Z"
   },
   {
    "duration": 6,
    "start_time": "2023-09-01T16:28:41.326Z"
   },
   {
    "duration": 118,
    "start_time": "2023-09-01T16:30:09.779Z"
   },
   {
    "duration": 74,
    "start_time": "2023-09-01T16:30:44.728Z"
   },
   {
    "duration": 73,
    "start_time": "2023-09-01T16:30:51.153Z"
   },
   {
    "duration": 71,
    "start_time": "2023-09-01T16:32:41.710Z"
   },
   {
    "duration": 71,
    "start_time": "2023-09-01T16:33:08.384Z"
   },
   {
    "duration": 89,
    "start_time": "2023-09-01T16:33:32.194Z"
   },
   {
    "duration": 83,
    "start_time": "2023-09-01T16:33:43.905Z"
   },
   {
    "duration": 93,
    "start_time": "2023-09-01T16:33:53.483Z"
   },
   {
    "duration": 84,
    "start_time": "2023-09-01T16:34:01.599Z"
   },
   {
    "duration": 85,
    "start_time": "2023-09-01T16:34:05.128Z"
   },
   {
    "duration": 109,
    "start_time": "2023-09-01T16:34:08.829Z"
   },
   {
    "duration": 100,
    "start_time": "2023-09-01T16:34:13.530Z"
   },
   {
    "duration": 99,
    "start_time": "2023-09-01T16:35:13.935Z"
   },
   {
    "duration": 242,
    "start_time": "2023-09-01T16:43:00.887Z"
   },
   {
    "duration": 6,
    "start_time": "2023-09-01T16:43:25.196Z"
   },
   {
    "duration": 6,
    "start_time": "2023-09-01T16:44:16.894Z"
   },
   {
    "duration": 6,
    "start_time": "2023-09-01T16:44:24.432Z"
   },
   {
    "duration": 172,
    "start_time": "2023-09-01T16:44:41.430Z"
   },
   {
    "duration": 150,
    "start_time": "2023-09-01T16:45:37.279Z"
   },
   {
    "duration": 150,
    "start_time": "2023-09-01T16:45:41.294Z"
   },
   {
    "duration": 169,
    "start_time": "2023-09-01T16:45:50.380Z"
   },
   {
    "duration": 151,
    "start_time": "2023-09-01T16:45:58.012Z"
   },
   {
    "duration": 170,
    "start_time": "2023-09-01T16:46:01.480Z"
   },
   {
    "duration": 152,
    "start_time": "2023-09-01T16:46:08.470Z"
   },
   {
    "duration": 145,
    "start_time": "2023-09-01T16:46:11.537Z"
   },
   {
    "duration": 162,
    "start_time": "2023-09-01T16:46:15.883Z"
   },
   {
    "duration": 152,
    "start_time": "2023-09-01T16:46:23.137Z"
   },
   {
    "duration": 142,
    "start_time": "2023-09-01T16:46:30.893Z"
   },
   {
    "duration": 141,
    "start_time": "2023-09-01T16:46:36.163Z"
   },
   {
    "duration": 95,
    "start_time": "2023-09-01T16:48:42.846Z"
   },
   {
    "duration": 8,
    "start_time": "2023-09-01T17:00:00.302Z"
   },
   {
    "duration": 5,
    "start_time": "2023-09-01T17:00:13.658Z"
   },
   {
    "duration": 5,
    "start_time": "2023-09-01T17:00:24.317Z"
   },
   {
    "duration": 136,
    "start_time": "2023-09-01T17:00:53.753Z"
   },
   {
    "duration": 132,
    "start_time": "2023-09-01T17:01:48.685Z"
   },
   {
    "duration": 188,
    "start_time": "2023-09-01T17:02:03.600Z"
   },
   {
    "duration": 233,
    "start_time": "2023-09-01T17:02:33.380Z"
   },
   {
    "duration": 183,
    "start_time": "2023-09-01T17:02:44.366Z"
   },
   {
    "duration": 1364,
    "start_time": "2023-09-01T17:02:54.142Z"
   },
   {
    "duration": 251,
    "start_time": "2023-09-01T17:03:00.945Z"
   },
   {
    "duration": 100,
    "start_time": "2023-09-01T17:03:16.970Z"
   },
   {
    "duration": 5,
    "start_time": "2023-09-01T17:25:31.455Z"
   },
   {
    "duration": 5,
    "start_time": "2023-09-01T17:25:40.840Z"
   },
   {
    "duration": 219,
    "start_time": "2023-09-01T17:26:29.973Z"
   },
   {
    "duration": 118,
    "start_time": "2023-09-01T17:27:05.688Z"
   },
   {
    "duration": 59,
    "start_time": "2023-09-01T17:27:59.942Z"
   },
   {
    "duration": 68,
    "start_time": "2023-09-02T10:22:46.143Z"
   },
   {
    "duration": 966,
    "start_time": "2023-09-02T10:22:58.994Z"
   },
   {
    "duration": 204,
    "start_time": "2023-09-02T10:22:59.963Z"
   },
   {
    "duration": 27,
    "start_time": "2023-09-02T10:23:00.170Z"
   },
   {
    "duration": 30,
    "start_time": "2023-09-02T10:23:00.199Z"
   },
   {
    "duration": 29,
    "start_time": "2023-09-02T10:23:00.232Z"
   },
   {
    "duration": 26,
    "start_time": "2023-09-02T10:23:00.263Z"
   },
   {
    "duration": 39,
    "start_time": "2023-09-02T10:23:00.291Z"
   },
   {
    "duration": 43,
    "start_time": "2023-09-02T10:23:00.333Z"
   },
   {
    "duration": 17,
    "start_time": "2023-09-02T10:23:00.378Z"
   },
   {
    "duration": 68,
    "start_time": "2023-09-02T10:23:00.397Z"
   },
   {
    "duration": 55,
    "start_time": "2023-09-02T10:23:00.467Z"
   },
   {
    "duration": 54,
    "start_time": "2023-09-02T10:23:00.524Z"
   },
   {
    "duration": 51,
    "start_time": "2023-09-02T10:23:00.580Z"
   },
   {
    "duration": 50,
    "start_time": "2023-09-02T10:23:00.635Z"
   },
   {
    "duration": 39,
    "start_time": "2023-09-02T10:23:00.687Z"
   },
   {
    "duration": 32,
    "start_time": "2023-09-02T10:23:00.728Z"
   },
   {
    "duration": 49,
    "start_time": "2023-09-02T10:23:00.762Z"
   },
   {
    "duration": 53,
    "start_time": "2023-09-02T10:23:00.812Z"
   },
   {
    "duration": 29,
    "start_time": "2023-09-02T10:23:00.866Z"
   },
   {
    "duration": 208,
    "start_time": "2023-09-02T10:23:00.897Z"
   },
   {
    "duration": 6,
    "start_time": "2023-09-02T10:23:01.110Z"
   },
   {
    "duration": 200,
    "start_time": "2023-09-02T10:23:01.117Z"
   },
   {
    "duration": 6,
    "start_time": "2023-09-02T10:23:01.319Z"
   },
   {
    "duration": 46,
    "start_time": "2023-09-02T10:23:01.327Z"
   },
   {
    "duration": 42,
    "start_time": "2023-09-02T10:23:01.375Z"
   },
   {
    "duration": 176,
    "start_time": "2023-09-02T10:23:01.419Z"
   },
   {
    "duration": 105,
    "start_time": "2023-09-02T10:23:01.596Z"
   },
   {
    "duration": 9,
    "start_time": "2023-09-02T10:23:01.702Z"
   },
   {
    "duration": 44,
    "start_time": "2023-09-02T10:23:01.713Z"
   },
   {
    "duration": 346,
    "start_time": "2023-09-02T10:23:01.759Z"
   },
   {
    "duration": 116,
    "start_time": "2023-09-02T10:23:02.108Z"
   },
   {
    "duration": 4,
    "start_time": "2023-09-02T10:23:02.227Z"
   },
   {
    "duration": 25,
    "start_time": "2023-09-02T10:23:02.233Z"
   },
   {
    "duration": 324,
    "start_time": "2023-09-02T10:23:02.260Z"
   },
   {
    "duration": 166,
    "start_time": "2023-09-02T10:23:02.586Z"
   },
   {
    "duration": 17,
    "start_time": "2023-09-02T10:23:02.754Z"
   },
   {
    "duration": 7,
    "start_time": "2023-09-02T10:23:58.432Z"
   },
   {
    "duration": 16,
    "start_time": "2023-09-02T10:24:06.927Z"
   },
   {
    "duration": 10,
    "start_time": "2023-09-02T10:24:50.111Z"
   },
   {
    "duration": 27,
    "start_time": "2023-09-02T10:25:27.152Z"
   },
   {
    "duration": 32,
    "start_time": "2023-09-02T10:26:19.312Z"
   },
   {
    "duration": 7,
    "start_time": "2023-09-02T10:35:02.746Z"
   },
   {
    "duration": 18,
    "start_time": "2023-09-02T10:35:47.517Z"
   },
   {
    "duration": 6,
    "start_time": "2023-09-02T10:36:07.626Z"
   },
   {
    "duration": 29,
    "start_time": "2023-09-02T10:36:09.413Z"
   },
   {
    "duration": 5,
    "start_time": "2023-09-02T10:36:28.994Z"
   },
   {
    "duration": 6,
    "start_time": "2023-09-02T10:36:42.881Z"
   },
   {
    "duration": 7,
    "start_time": "2023-09-02T10:38:44.028Z"
   },
   {
    "duration": 29,
    "start_time": "2023-09-02T10:40:24.180Z"
   },
   {
    "duration": 5,
    "start_time": "2023-09-02T10:40:57.481Z"
   },
   {
    "duration": 4,
    "start_time": "2023-09-02T10:46:49.734Z"
   },
   {
    "duration": 5,
    "start_time": "2023-09-02T10:47:01.596Z"
   },
   {
    "duration": 256,
    "start_time": "2023-09-02T10:47:45.530Z"
   },
   {
    "duration": 99,
    "start_time": "2023-09-02T10:48:41.157Z"
   },
   {
    "duration": 269,
    "start_time": "2023-09-02T10:54:01.342Z"
   },
   {
    "duration": 287,
    "start_time": "2023-09-02T10:54:08.532Z"
   },
   {
    "duration": 184,
    "start_time": "2023-09-02T10:54:14.289Z"
   },
   {
    "duration": 9,
    "start_time": "2023-09-02T10:54:51.082Z"
   },
   {
    "duration": 153,
    "start_time": "2023-09-02T10:55:31.685Z"
   },
   {
    "duration": 137,
    "start_time": "2023-09-02T10:55:37.548Z"
   },
   {
    "duration": 178,
    "start_time": "2023-09-02T10:55:50.480Z"
   },
   {
    "duration": 178,
    "start_time": "2023-09-02T10:55:56.331Z"
   },
   {
    "duration": 56,
    "start_time": "2023-09-02T10:56:26.184Z"
   },
   {
    "duration": 107,
    "start_time": "2023-09-02T10:56:31.141Z"
   },
   {
    "duration": 9,
    "start_time": "2023-09-02T10:56:46.829Z"
   },
   {
    "duration": 189,
    "start_time": "2023-09-02T11:02:04.213Z"
   },
   {
    "duration": 110,
    "start_time": "2023-09-02T11:02:46.271Z"
   },
   {
    "duration": 77,
    "start_time": "2023-09-02T11:03:05.840Z"
   },
   {
    "duration": 10,
    "start_time": "2023-09-02T11:03:10.187Z"
   },
   {
    "duration": 172,
    "start_time": "2023-09-02T11:05:13.238Z"
   },
   {
    "duration": 106,
    "start_time": "2023-09-02T11:05:31.176Z"
   },
   {
    "duration": 8,
    "start_time": "2023-09-02T11:05:58.603Z"
   },
   {
    "duration": 20,
    "start_time": "2023-09-02T11:20:18.887Z"
   },
   {
    "duration": 14,
    "start_time": "2023-09-02T11:22:34.537Z"
   },
   {
    "duration": 8,
    "start_time": "2023-09-02T11:22:43.288Z"
   },
   {
    "duration": 3,
    "start_time": "2023-09-02T11:23:11.818Z"
   },
   {
    "duration": 130,
    "start_time": "2023-09-02T11:23:20.685Z"
   },
   {
    "duration": 25,
    "start_time": "2023-09-02T11:25:18.754Z"
   },
   {
    "duration": 34,
    "start_time": "2023-09-02T11:26:22.592Z"
   },
   {
    "duration": 42,
    "start_time": "2023-09-02T11:27:45.620Z"
   },
   {
    "duration": 25,
    "start_time": "2023-09-02T11:29:13.436Z"
   },
   {
    "duration": 10,
    "start_time": "2023-09-02T11:31:42.950Z"
   },
   {
    "duration": 9,
    "start_time": "2023-09-02T11:33:06.283Z"
   },
   {
    "duration": 24,
    "start_time": "2023-09-02T11:33:24.477Z"
   },
   {
    "duration": 10,
    "start_time": "2023-09-02T11:34:14.436Z"
   },
   {
    "duration": 8,
    "start_time": "2023-09-02T11:35:24.985Z"
   },
   {
    "duration": 427,
    "start_time": "2023-09-02T11:36:22.240Z"
   },
   {
    "duration": 4,
    "start_time": "2023-09-02T11:36:51.667Z"
   },
   {
    "duration": 13,
    "start_time": "2023-09-02T11:37:01.416Z"
   },
   {
    "duration": 14,
    "start_time": "2023-09-02T11:37:53.699Z"
   },
   {
    "duration": 327,
    "start_time": "2023-09-02T11:38:13.920Z"
   },
   {
    "duration": 107,
    "start_time": "2023-09-02T11:39:14.870Z"
   },
   {
    "duration": 101,
    "start_time": "2023-09-02T11:41:36.693Z"
   },
   {
    "duration": 102,
    "start_time": "2023-09-02T11:41:43.751Z"
   },
   {
    "duration": 95,
    "start_time": "2023-09-02T11:41:59.267Z"
   },
   {
    "duration": 915,
    "start_time": "2023-09-02T11:42:27.995Z"
   },
   {
    "duration": 915,
    "start_time": "2023-09-02T11:42:44.971Z"
   },
   {
    "duration": 4,
    "start_time": "2023-09-02T11:44:58.372Z"
   },
   {
    "duration": 14,
    "start_time": "2023-09-02T11:45:05.034Z"
   },
   {
    "duration": 4,
    "start_time": "2023-09-02T11:45:35.733Z"
   },
   {
    "duration": 17,
    "start_time": "2023-09-02T11:45:37.503Z"
   },
   {
    "duration": 16,
    "start_time": "2023-09-02T11:46:57.531Z"
   },
   {
    "duration": 12,
    "start_time": "2023-09-02T11:47:07.110Z"
   },
   {
    "duration": 18,
    "start_time": "2023-09-02T11:47:32.303Z"
   },
   {
    "duration": 12,
    "start_time": "2023-09-02T11:47:53.919Z"
   },
   {
    "duration": 6225,
    "start_time": "2023-09-02T12:34:19.376Z"
   },
   {
    "duration": 24,
    "start_time": "2023-09-02T12:34:32.710Z"
   },
   {
    "duration": 250,
    "start_time": "2023-09-02T12:35:50.641Z"
   },
   {
    "duration": 18,
    "start_time": "2023-09-02T12:35:52.177Z"
   },
   {
    "duration": 9,
    "start_time": "2023-09-02T12:36:29.144Z"
   },
   {
    "duration": 3,
    "start_time": "2023-09-02T12:39:38.349Z"
   },
   {
    "duration": 19,
    "start_time": "2023-09-02T12:39:50.623Z"
   },
   {
    "duration": 251,
    "start_time": "2023-09-02T12:40:38.025Z"
   },
   {
    "duration": 22,
    "start_time": "2023-09-02T12:40:46.209Z"
   },
   {
    "duration": 845,
    "start_time": "2023-09-03T12:00:30.772Z"
   },
   {
    "duration": 196,
    "start_time": "2023-09-03T12:00:31.619Z"
   },
   {
    "duration": 23,
    "start_time": "2023-09-03T12:00:31.817Z"
   },
   {
    "duration": 52,
    "start_time": "2023-09-03T12:00:31.841Z"
   },
   {
    "duration": 91,
    "start_time": "2023-09-03T12:00:31.894Z"
   },
   {
    "duration": 28,
    "start_time": "2023-09-03T12:00:31.987Z"
   },
   {
    "duration": 13,
    "start_time": "2023-09-03T12:00:32.017Z"
   },
   {
    "duration": 47,
    "start_time": "2023-09-03T12:00:32.032Z"
   },
   {
    "duration": 22,
    "start_time": "2023-09-03T12:00:32.081Z"
   },
   {
    "duration": 38,
    "start_time": "2023-09-03T12:00:32.106Z"
   },
   {
    "duration": 13,
    "start_time": "2023-09-03T12:00:32.146Z"
   },
   {
    "duration": 28,
    "start_time": "2023-09-03T12:00:32.161Z"
   },
   {
    "duration": 17,
    "start_time": "2023-09-03T12:00:32.191Z"
   },
   {
    "duration": 14,
    "start_time": "2023-09-03T12:00:32.210Z"
   },
   {
    "duration": 29,
    "start_time": "2023-09-03T12:00:32.226Z"
   },
   {
    "duration": 15,
    "start_time": "2023-09-03T12:00:32.257Z"
   },
   {
    "duration": 16,
    "start_time": "2023-09-03T12:00:32.273Z"
   },
   {
    "duration": 31,
    "start_time": "2023-09-03T12:00:32.291Z"
   },
   {
    "duration": 46,
    "start_time": "2023-09-03T12:00:32.324Z"
   },
   {
    "duration": 168,
    "start_time": "2023-09-03T12:00:32.372Z"
   },
   {
    "duration": 6,
    "start_time": "2023-09-03T12:00:32.541Z"
   },
   {
    "duration": 111,
    "start_time": "2023-09-03T12:00:32.549Z"
   },
   {
    "duration": 5,
    "start_time": "2023-09-03T12:00:32.662Z"
   },
   {
    "duration": 17,
    "start_time": "2023-09-03T12:00:32.682Z"
   },
   {
    "duration": 27,
    "start_time": "2023-09-03T12:00:32.701Z"
   },
   {
    "duration": 162,
    "start_time": "2023-09-03T12:00:32.730Z"
   },
   {
    "duration": 105,
    "start_time": "2023-09-03T12:00:32.894Z"
   },
   {
    "duration": 5,
    "start_time": "2023-09-03T12:00:33.002Z"
   },
   {
    "duration": 42,
    "start_time": "2023-09-03T12:00:33.009Z"
   },
   {
    "duration": 340,
    "start_time": "2023-09-03T12:00:33.053Z"
   },
   {
    "duration": 112,
    "start_time": "2023-09-03T12:00:33.394Z"
   },
   {
    "duration": 5,
    "start_time": "2023-09-03T12:00:33.508Z"
   },
   {
    "duration": 19,
    "start_time": "2023-09-03T12:00:33.515Z"
   },
   {
    "duration": 259,
    "start_time": "2023-09-03T12:00:33.536Z"
   },
   {
    "duration": 116,
    "start_time": "2023-09-03T12:00:33.797Z"
   },
   {
    "duration": 13,
    "start_time": "2023-09-03T12:00:33.915Z"
   },
   {
    "duration": 12,
    "start_time": "2023-09-03T12:00:33.930Z"
   },
   {
    "duration": 55,
    "start_time": "2023-09-03T12:00:33.944Z"
   },
   {
    "duration": 7,
    "start_time": "2023-09-03T12:00:34.001Z"
   },
   {
    "duration": 136,
    "start_time": "2023-09-03T12:00:34.010Z"
   },
   {
    "duration": 13,
    "start_time": "2023-09-03T12:00:34.148Z"
   },
   {
    "duration": 7,
    "start_time": "2023-09-03T12:00:34.162Z"
   },
   {
    "duration": 47,
    "start_time": "2023-09-03T12:00:34.171Z"
   },
   {
    "duration": 25,
    "start_time": "2023-09-03T12:00:34.220Z"
   },
   {
    "duration": 21,
    "start_time": "2023-09-03T12:00:34.247Z"
   },
   {
    "duration": 7,
    "start_time": "2023-09-03T12:00:34.270Z"
   },
   {
    "duration": 162,
    "start_time": "2023-09-03T12:00:34.278Z"
   },
   {
    "duration": 106,
    "start_time": "2023-09-03T12:00:34.442Z"
   },
   {
    "duration": 8,
    "start_time": "2023-09-03T12:00:34.550Z"
   },
   {
    "duration": 185,
    "start_time": "2023-09-03T12:00:34.560Z"
   },
   {
    "duration": 112,
    "start_time": "2023-09-03T12:00:34.747Z"
   },
   {
    "duration": 21,
    "start_time": "2023-09-03T12:00:34.861Z"
   },
   {
    "duration": 180,
    "start_time": "2023-09-03T12:00:34.884Z"
   },
   {
    "duration": 193,
    "start_time": "2023-09-03T12:00:35.066Z"
   },
   {
    "duration": 9,
    "start_time": "2023-09-03T12:00:35.261Z"
   },
   {
    "duration": 193,
    "start_time": "2023-09-03T12:00:35.272Z"
   },
   {
    "duration": 119,
    "start_time": "2023-09-03T12:00:35.467Z"
   },
   {
    "duration": 9,
    "start_time": "2023-09-03T12:00:35.588Z"
   },
   {
    "duration": 892,
    "start_time": "2023-09-03T12:00:35.598Z"
   },
   {
    "duration": 3,
    "start_time": "2023-09-03T12:00:36.491Z"
   },
   {
    "duration": 20,
    "start_time": "2023-09-03T12:00:36.496Z"
   },
   {
    "duration": 10,
    "start_time": "2023-09-03T12:00:36.517Z"
   },
   {
    "duration": 3,
    "start_time": "2023-09-03T12:00:36.529Z"
   },
   {
    "duration": 6078,
    "start_time": "2023-09-03T12:00:36.533Z"
   },
   {
    "duration": 18,
    "start_time": "2023-09-03T12:00:42.613Z"
   },
   {
    "duration": 458,
    "start_time": "2023-09-03T14:33:31.852Z"
   },
   {
    "duration": 7,
    "start_time": "2023-09-03T14:36:49.189Z"
   },
   {
    "duration": 6,
    "start_time": "2023-09-03T14:37:32.485Z"
   },
   {
    "duration": 6,
    "start_time": "2023-09-03T14:46:40.870Z"
   },
   {
    "duration": 56,
    "start_time": "2023-09-03T14:52:56.505Z"
   },
   {
    "duration": 9,
    "start_time": "2023-09-03T14:56:30.457Z"
   },
   {
    "duration": 73,
    "start_time": "2023-09-03T15:03:30.893Z"
   },
   {
    "duration": 103,
    "start_time": "2023-09-03T15:09:37.504Z"
   },
   {
    "duration": 4,
    "start_time": "2023-09-03T15:09:56.021Z"
   },
   {
    "duration": 339,
    "start_time": "2023-09-03T15:10:02.905Z"
   },
   {
    "duration": 9,
    "start_time": "2023-09-03T15:20:55.648Z"
   },
   {
    "duration": 3,
    "start_time": "2023-09-03T15:21:18.658Z"
   },
   {
    "duration": 11,
    "start_time": "2023-09-03T15:21:24.198Z"
   },
   {
    "duration": 9,
    "start_time": "2023-09-03T15:21:40.839Z"
   },
   {
    "duration": 9,
    "start_time": "2023-09-03T15:21:54.728Z"
   },
   {
    "duration": 246,
    "start_time": "2023-09-03T15:22:15.516Z"
   },
   {
    "duration": 5,
    "start_time": "2023-09-03T15:22:50.466Z"
   },
   {
    "duration": 262,
    "start_time": "2023-09-03T15:23:28.384Z"
   },
   {
    "duration": 11,
    "start_time": "2023-09-03T15:24:48.729Z"
   },
   {
    "duration": 163,
    "start_time": "2023-09-03T15:24:56.877Z"
   },
   {
    "duration": 11,
    "start_time": "2023-09-03T15:27:16.228Z"
   },
   {
    "duration": 10,
    "start_time": "2023-09-03T15:31:27.077Z"
   },
   {
    "duration": 3,
    "start_time": "2023-09-03T15:31:46.147Z"
   },
   {
    "duration": 6,
    "start_time": "2023-09-03T15:31:51.410Z"
   },
   {
    "duration": 6,
    "start_time": "2023-09-03T15:32:53.626Z"
   },
   {
    "duration": 168,
    "start_time": "2023-09-03T15:35:58.947Z"
   },
   {
    "duration": 142,
    "start_time": "2023-09-03T15:38:38.642Z"
   },
   {
    "duration": 143,
    "start_time": "2023-09-03T15:38:58.765Z"
   },
   {
    "duration": 142,
    "start_time": "2023-09-03T15:39:05.196Z"
   },
   {
    "duration": 129,
    "start_time": "2023-09-03T15:39:08.688Z"
   },
   {
    "duration": 218,
    "start_time": "2023-09-03T15:39:13.580Z"
   },
   {
    "duration": 181,
    "start_time": "2023-09-03T15:40:19.464Z"
   },
   {
    "duration": 169,
    "start_time": "2023-09-03T15:40:46.361Z"
   },
   {
    "duration": 187,
    "start_time": "2023-09-03T15:41:13.596Z"
   },
   {
    "duration": 5,
    "start_time": "2023-09-03T15:43:21.351Z"
   },
   {
    "duration": 1233,
    "start_time": "2023-09-03T16:01:40.177Z"
   },
   {
    "duration": 200,
    "start_time": "2023-09-03T16:01:41.412Z"
   },
   {
    "duration": 21,
    "start_time": "2023-09-03T16:01:41.614Z"
   },
   {
    "duration": 16,
    "start_time": "2023-09-03T16:01:41.637Z"
   },
   {
    "duration": 15,
    "start_time": "2023-09-03T16:01:41.654Z"
   },
   {
    "duration": 7,
    "start_time": "2023-09-03T16:01:41.670Z"
   },
   {
    "duration": 17,
    "start_time": "2023-09-03T16:01:41.679Z"
   },
   {
    "duration": 14,
    "start_time": "2023-09-03T16:01:41.698Z"
   },
   {
    "duration": 6,
    "start_time": "2023-09-03T16:01:41.714Z"
   },
   {
    "duration": 32,
    "start_time": "2023-09-03T16:01:41.722Z"
   },
   {
    "duration": 5,
    "start_time": "2023-09-03T16:01:41.756Z"
   },
   {
    "duration": 6,
    "start_time": "2023-09-03T16:01:41.762Z"
   },
   {
    "duration": 8,
    "start_time": "2023-09-03T16:01:41.770Z"
   },
   {
    "duration": 14,
    "start_time": "2023-09-03T16:01:41.779Z"
   },
   {
    "duration": 6,
    "start_time": "2023-09-03T16:01:41.794Z"
   },
   {
    "duration": 17,
    "start_time": "2023-09-03T16:01:41.802Z"
   },
   {
    "duration": 5,
    "start_time": "2023-09-03T16:01:41.821Z"
   },
   {
    "duration": 26,
    "start_time": "2023-09-03T16:01:41.827Z"
   },
   {
    "duration": 19,
    "start_time": "2023-09-03T16:01:41.854Z"
   },
   {
    "duration": 174,
    "start_time": "2023-09-03T16:01:41.875Z"
   },
   {
    "duration": 5,
    "start_time": "2023-09-03T16:01:42.051Z"
   },
   {
    "duration": 133,
    "start_time": "2023-09-03T16:01:42.057Z"
   },
   {
    "duration": 7,
    "start_time": "2023-09-03T16:01:42.191Z"
   },
   {
    "duration": 39,
    "start_time": "2023-09-03T16:01:42.199Z"
   },
   {
    "duration": 25,
    "start_time": "2023-09-03T16:01:42.239Z"
   },
   {
    "duration": 146,
    "start_time": "2023-09-03T16:01:42.266Z"
   },
   {
    "duration": 93,
    "start_time": "2023-09-03T16:01:42.413Z"
   },
   {
    "duration": 4,
    "start_time": "2023-09-03T16:01:42.510Z"
   },
   {
    "duration": 37,
    "start_time": "2023-09-03T16:01:42.515Z"
   },
   {
    "duration": 251,
    "start_time": "2023-09-03T16:01:42.554Z"
   },
   {
    "duration": 109,
    "start_time": "2023-09-03T16:01:42.806Z"
   },
   {
    "duration": 4,
    "start_time": "2023-09-03T16:01:42.916Z"
   },
   {
    "duration": 26,
    "start_time": "2023-09-03T16:01:42.922Z"
   },
   {
    "duration": 256,
    "start_time": "2023-09-03T16:01:42.949Z"
   },
   {
    "duration": 193,
    "start_time": "2023-09-03T16:01:43.207Z"
   },
   {
    "duration": 10,
    "start_time": "2023-09-03T16:01:43.401Z"
   },
   {
    "duration": 28,
    "start_time": "2023-09-03T16:01:43.413Z"
   },
   {
    "duration": 46,
    "start_time": "2023-09-03T16:01:43.443Z"
   },
   {
    "duration": 20,
    "start_time": "2023-09-03T16:01:43.490Z"
   },
   {
    "duration": 48,
    "start_time": "2023-09-03T16:01:43.511Z"
   },
   {
    "duration": 7,
    "start_time": "2023-09-03T16:01:43.561Z"
   },
   {
    "duration": 28,
    "start_time": "2023-09-03T16:01:43.570Z"
   },
   {
    "duration": 73,
    "start_time": "2023-09-03T16:01:43.599Z"
   },
   {
    "duration": 10,
    "start_time": "2023-09-03T16:01:43.674Z"
   },
   {
    "duration": 65,
    "start_time": "2023-09-03T16:01:43.685Z"
   },
   {
    "duration": 22,
    "start_time": "2023-09-03T16:01:43.752Z"
   },
   {
    "duration": 154,
    "start_time": "2023-09-03T16:01:43.776Z"
   },
   {
    "duration": 88,
    "start_time": "2023-09-03T16:01:43.932Z"
   },
   {
    "duration": 8,
    "start_time": "2023-09-03T16:01:44.022Z"
   },
   {
    "duration": 174,
    "start_time": "2023-09-03T16:01:44.032Z"
   },
   {
    "duration": 98,
    "start_time": "2023-09-03T16:01:44.208Z"
   },
   {
    "duration": 8,
    "start_time": "2023-09-03T16:01:44.308Z"
   },
   {
    "duration": 175,
    "start_time": "2023-09-03T16:01:44.318Z"
   },
   {
    "duration": 121,
    "start_time": "2023-09-03T16:01:44.495Z"
   },
   {
    "duration": 8,
    "start_time": "2023-09-03T16:01:44.618Z"
   },
   {
    "duration": 203,
    "start_time": "2023-09-03T16:01:44.627Z"
   },
   {
    "duration": 94,
    "start_time": "2023-09-03T16:01:44.832Z"
   },
   {
    "duration": 8,
    "start_time": "2023-09-03T16:01:44.928Z"
   },
   {
    "duration": 810,
    "start_time": "2023-09-03T16:01:44.937Z"
   },
   {
    "duration": 3,
    "start_time": "2023-09-03T16:01:45.750Z"
   },
   {
    "duration": 19,
    "start_time": "2023-09-03T16:01:45.755Z"
   },
   {
    "duration": 25,
    "start_time": "2023-09-03T16:01:45.776Z"
   },
   {
    "duration": 15,
    "start_time": "2023-09-03T16:01:45.803Z"
   },
   {
    "duration": 5673,
    "start_time": "2023-09-03T16:01:45.820Z"
   },
   {
    "duration": 15,
    "start_time": "2023-09-03T16:01:51.495Z"
   },
   {
    "duration": 16,
    "start_time": "2023-09-03T16:01:51.512Z"
   },
   {
    "duration": 10,
    "start_time": "2023-09-03T16:01:51.530Z"
   },
   {
    "duration": 9,
    "start_time": "2023-09-03T16:01:51.549Z"
   },
   {
    "duration": 13,
    "start_time": "2023-09-03T16:01:51.560Z"
   },
   {
    "duration": 167,
    "start_time": "2023-09-03T16:01:51.574Z"
   },
   {
    "duration": 16,
    "start_time": "2023-09-03T16:54:26.400Z"
   },
   {
    "duration": 10,
    "start_time": "2023-09-03T17:00:16.997Z"
   },
   {
    "duration": 11,
    "start_time": "2023-09-03T17:01:30.153Z"
   },
   {
    "duration": 9,
    "start_time": "2023-09-03T17:02:00.435Z"
   },
   {
    "duration": 6,
    "start_time": "2023-09-03T17:02:14.462Z"
   },
   {
    "duration": 62,
    "start_time": "2023-09-03T17:03:38.995Z"
   },
   {
    "duration": 173,
    "start_time": "2023-09-03T17:03:56.904Z"
   },
   {
    "duration": 106,
    "start_time": "2023-09-03T17:06:26.569Z"
   },
   {
    "duration": 116,
    "start_time": "2023-09-03T17:07:06.178Z"
   },
   {
    "duration": 110,
    "start_time": "2023-09-03T17:07:21.254Z"
   },
   {
    "duration": 106,
    "start_time": "2023-09-03T17:07:57.497Z"
   },
   {
    "duration": 124,
    "start_time": "2023-09-03T17:08:28.153Z"
   },
   {
    "duration": 123,
    "start_time": "2023-09-03T17:08:35.821Z"
   },
   {
    "duration": 125,
    "start_time": "2023-09-03T17:09:22.767Z"
   },
   {
    "duration": 134,
    "start_time": "2023-09-03T17:09:44.520Z"
   },
   {
    "duration": 116,
    "start_time": "2023-09-03T17:15:50.122Z"
   },
   {
    "duration": 126,
    "start_time": "2023-09-03T17:16:32.195Z"
   },
   {
    "duration": 120,
    "start_time": "2023-09-03T17:17:04.206Z"
   },
   {
    "duration": 247,
    "start_time": "2023-09-03T17:17:42.970Z"
   },
   {
    "duration": 1269,
    "start_time": "2023-09-03T19:35:58.833Z"
   },
   {
    "duration": 196,
    "start_time": "2023-09-03T19:36:00.105Z"
   },
   {
    "duration": 25,
    "start_time": "2023-09-03T19:36:00.303Z"
   },
   {
    "duration": 80,
    "start_time": "2023-09-03T19:36:00.330Z"
   },
   {
    "duration": 73,
    "start_time": "2023-09-03T19:36:00.412Z"
   },
   {
    "duration": 74,
    "start_time": "2023-09-03T19:36:00.486Z"
   },
   {
    "duration": 38,
    "start_time": "2023-09-03T19:36:00.562Z"
   },
   {
    "duration": 55,
    "start_time": "2023-09-03T19:36:00.603Z"
   },
   {
    "duration": 103,
    "start_time": "2023-09-03T19:36:00.659Z"
   },
   {
    "duration": 83,
    "start_time": "2023-09-03T19:36:00.765Z"
   },
   {
    "duration": 87,
    "start_time": "2023-09-03T19:36:00.850Z"
   },
   {
    "duration": 126,
    "start_time": "2023-09-03T19:36:00.939Z"
   },
   {
    "duration": 40,
    "start_time": "2023-09-03T19:36:01.068Z"
   },
   {
    "duration": 61,
    "start_time": "2023-09-03T19:36:01.110Z"
   },
   {
    "duration": 53,
    "start_time": "2023-09-03T19:36:01.173Z"
   },
   {
    "duration": 74,
    "start_time": "2023-09-03T19:36:01.228Z"
   },
   {
    "duration": 33,
    "start_time": "2023-09-03T19:36:01.304Z"
   },
   {
    "duration": 44,
    "start_time": "2023-09-03T19:36:01.339Z"
   },
   {
    "duration": 47,
    "start_time": "2023-09-03T19:36:01.385Z"
   },
   {
    "duration": 414,
    "start_time": "2023-09-03T19:36:01.434Z"
   },
   {
    "duration": 143,
    "start_time": "2023-09-03T19:36:01.850Z"
   },
   {
    "duration": 5,
    "start_time": "2023-09-03T19:36:01.995Z"
   },
   {
    "duration": 173,
    "start_time": "2023-09-03T19:36:02.002Z"
   },
   {
    "duration": 8,
    "start_time": "2023-09-03T19:36:02.177Z"
   },
   {
    "duration": 36,
    "start_time": "2023-09-03T19:36:02.186Z"
   },
   {
    "duration": 70,
    "start_time": "2023-09-03T19:36:02.224Z"
   },
   {
    "duration": 227,
    "start_time": "2023-09-03T19:36:02.296Z"
   },
   {
    "duration": 152,
    "start_time": "2023-09-03T19:36:02.528Z"
   },
   {
    "duration": 6,
    "start_time": "2023-09-03T19:36:02.682Z"
   },
   {
    "duration": 25,
    "start_time": "2023-09-03T19:36:02.690Z"
   },
   {
    "duration": 317,
    "start_time": "2023-09-03T19:36:02.717Z"
   },
   {
    "duration": 130,
    "start_time": "2023-09-03T19:36:03.036Z"
   },
   {
    "duration": 5,
    "start_time": "2023-09-03T19:36:03.168Z"
   },
   {
    "duration": 48,
    "start_time": "2023-09-03T19:36:03.174Z"
   },
   {
    "duration": 346,
    "start_time": "2023-09-03T19:36:03.224Z"
   },
   {
    "duration": 138,
    "start_time": "2023-09-03T19:36:03.572Z"
   },
   {
    "duration": 163,
    "start_time": "2023-09-03T19:36:03.712Z"
   },
   {
    "duration": 354,
    "start_time": "2023-09-03T19:36:03.877Z"
   },
   {
    "duration": 341,
    "start_time": "2023-09-03T19:36:04.233Z"
   },
   {
    "duration": 50,
    "start_time": "2023-09-03T19:36:04.575Z"
   },
   {
    "duration": 42,
    "start_time": "2023-09-03T19:36:04.627Z"
   },
   {
    "duration": 79,
    "start_time": "2023-09-03T19:36:04.671Z"
   },
   {
    "duration": 133,
    "start_time": "2023-09-03T19:36:04.752Z"
   },
   {
    "duration": 68,
    "start_time": "2023-09-03T19:36:04.887Z"
   },
   {
    "duration": 27,
    "start_time": "2023-09-03T19:36:04.957Z"
   },
   {
    "duration": 35,
    "start_time": "2023-09-03T19:36:04.985Z"
   },
   {
    "duration": 53,
    "start_time": "2023-09-03T19:36:05.022Z"
   },
   {
    "duration": 182,
    "start_time": "2023-09-03T19:36:05.077Z"
   },
   {
    "duration": 125,
    "start_time": "2023-09-03T19:36:05.261Z"
   },
   {
    "duration": 7,
    "start_time": "2023-09-03T19:36:05.388Z"
   },
   {
    "duration": 245,
    "start_time": "2023-09-03T19:36:05.397Z"
   },
   {
    "duration": 130,
    "start_time": "2023-09-03T19:36:05.643Z"
   },
   {
    "duration": 10,
    "start_time": "2023-09-03T19:36:05.775Z"
   },
   {
    "duration": 230,
    "start_time": "2023-09-03T19:36:05.788Z"
   },
   {
    "duration": 112,
    "start_time": "2023-09-03T19:36:06.020Z"
   },
   {
    "duration": 8,
    "start_time": "2023-09-03T19:36:06.134Z"
   },
   {
    "duration": 193,
    "start_time": "2023-09-03T19:36:06.144Z"
   },
   {
    "duration": 124,
    "start_time": "2023-09-03T19:36:06.339Z"
   },
   {
    "duration": 8,
    "start_time": "2023-09-03T19:36:06.465Z"
   },
   {
    "duration": 935,
    "start_time": "2023-09-03T19:36:06.475Z"
   },
   {
    "duration": 3,
    "start_time": "2023-09-03T19:36:07.412Z"
   },
   {
    "duration": 30,
    "start_time": "2023-09-03T19:36:07.423Z"
   },
   {
    "duration": 22,
    "start_time": "2023-09-03T19:36:07.455Z"
   },
   {
    "duration": 9,
    "start_time": "2023-09-03T19:36:07.478Z"
   },
   {
    "duration": 6147,
    "start_time": "2023-09-03T19:36:07.488Z"
   },
   {
    "duration": 17,
    "start_time": "2023-09-03T19:36:13.636Z"
   },
   {
    "duration": 22,
    "start_time": "2023-09-03T19:36:13.654Z"
   },
   {
    "duration": 8,
    "start_time": "2023-09-03T19:36:13.678Z"
   },
   {
    "duration": 10,
    "start_time": "2023-09-03T19:36:13.687Z"
   },
   {
    "duration": 10,
    "start_time": "2023-09-03T19:36:13.699Z"
   },
   {
    "duration": 189,
    "start_time": "2023-09-03T19:36:13.724Z"
   }
  ],
  "kernelspec": {
   "display_name": "Python 3 (ipykernel)",
   "language": "python",
   "name": "python3"
  },
  "language_info": {
   "codemirror_mode": {
    "name": "ipython",
    "version": 3
   },
   "file_extension": ".py",
   "mimetype": "text/x-python",
   "name": "python",
   "nbconvert_exporter": "python",
   "pygments_lexer": "ipython3",
   "version": "3.10.9"
  },
  "toc": {
   "base_numbering": 1,
   "nav_menu": {},
   "number_sections": true,
   "sideBar": true,
   "skip_h1_title": true,
   "title_cell": "Table of Contents",
   "title_sidebar": "Contents",
   "toc_cell": false,
   "toc_position": {},
   "toc_section_display": true,
   "toc_window_display": false
  }
 },
 "nbformat": 4,
 "nbformat_minor": 5
}
